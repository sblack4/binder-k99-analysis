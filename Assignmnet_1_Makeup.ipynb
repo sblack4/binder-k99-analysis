{
  "nbformat": 4,
  "nbformat_minor": 0,
  "metadata": {
    "colab": {
      "name": "Assignmnet-1-Makeup.ipynb",
      "provenance": [],
      "collapsed_sections": []
    },
    "kernelspec": {
      "name": "python3",
      "display_name": "Python 3"
    }
  },
  "cells": [
    {
      "cell_type": "markdown",
      "metadata": {
        "id": "wtMBrpHkqP89"
      },
      "source": [
        "Steven Black\n",
        "\n",
        "Due 10-25-2020\n",
        "\n",
        "IS 678 Data Analytics in Cybersecurity (01.13496/02.13497) FA2020\n",
        "\n",
        "\n",
        "# Make up Assignment I\n",
        "## Prompt\n",
        "\n",
        "Step 1:\n",
        "\n",
        "Use the 20% subset of the KDDTrain+.txt file from NSL-KDD Dataset located at https://www.unb.ca/cic/datasets/nsl.html for this exercise. Read the information in the URL to guide you in understanding the dataset, then scroll to the end of the page for the 'download this dataset' link.\n",
        "\n",
        "Step 2:\n",
        "\n",
        "The next page will get you to fill a form; your organization is UMBC and your job title is student. Download the NSL-KDD zip file, unzip, and locate KDDTrain+_20Percent.TXT (you can change the extension to .csv)\n",
        "\n",
        "Step 3\n",
        "\n",
        "Create 2 training sets by selecting samples from this data set and evaluate them using decision trees (such as J48 in Weka). You can use random sampling or any other selective sampling technique. Compare the decision trees you find and describe any key changes between the trees.\n",
        "\n",
        "Comment on why these changes may be occuring by looking at the class distribution in your samples or the size of your training samples.\n",
        "\n",
        "You may use alternate analysis techniques such as clustering and associations to supplement your analysis (although this is not required).\n",
        "\n",
        "Submit a word document of your assignment, please make sure to include the decision tree snapshots and other relevant snapshots in your assignment. You do not need to include snapshots of every intermediate step or analysis.\n",
        "\n",
        "You can use weka or any other alternative data mining tool for this assignment.\n",
        "\n",
        "Note that this is not KDD Cup 99 dataset but all preprocessing steps of homework 1 are still relevant for this dataset. The sample solution remains a guide for this homework \n"
      ]
    },
    {
      "cell_type": "markdown",
      "metadata": {
        "id": "EMpr2jKJxJOw"
      },
      "source": [
        "## Intro\n",
        "\n"
      ]
    },
    {
      "cell_type": "markdown",
      "metadata": {
        "id": "wNqTOLf_0RzL"
      },
      "source": [
        "## 0. Prerequisites\n",
        "\n",
        "Before analysis can begin we need to download the files and load the data such that we can intelligbly use it. \n",
        "\n",
        "This process, below, is comprised of several steps:\n",
        "1. Install python libraries\n",
        "2. Load libraries and declare where the data will come from (the dataset, `KDDTrain+_20Percent.txt` was downloaded manually)\n",
        "3. Download remaining files\n",
        "4. View file contents with `head`\n",
        "5. Load labels and data\n",
        "6. Create DataFrame from labels and data\n"
      ]
    },
    {
      "cell_type": "markdown",
      "metadata": {
        "id": "FIYSdBpqm0Ki"
      },
      "source": [
        "### 0.1 Install python libraries\n",
        "\n",
        "Use the python package manager, PIP, to install machine-learning, data-manipulation, and graphing packages.\n"
      ]
    },
    {
      "cell_type": "code",
      "metadata": {
        "id": "XRhvYW_mpxyu"
      },
      "source": [
        "!pip install requests sklearn pandas numpy matplotlib seaborn > /dev/nul"
      ],
      "execution_count": 88,
      "outputs": []
    },
    {
      "cell_type": "markdown",
      "metadata": {
        "id": "bM3o58ZZm-wt"
      },
      "source": [
        "### 0.2: Load libraries and declare vars\n",
        "\n",
        "Load packages with the `import` keyworkd and declare where the data will come from. The dataset, `KDDTrain+_20Percent.txt`, was downloaded manually while the column names and label info is downloaded later. They can be retrieved from the UNB's site [1] or the original dataset on UCI's site [2]."
      ]
    },
    {
      "cell_type": "code",
      "metadata": {
        "id": "XHSi7y1EsZQ9"
      },
      "source": [
        "%matplotlib inline\n",
        "\n",
        "import matplotlib.pyplot as plt\n",
        "import numpy as np\n",
        "import os\n",
        "import pandas as pd\n",
        "import requests\n",
        "import seaborn as sns\n",
        "\n",
        "from sklearn.model_selection import train_test_split\n",
        "from sklearn.preprocessing import LabelEncoder, OneHotEncoder, OrdinalEncoder\n",
        "from sklearn.tree import DecisionTreeClassifier, export_text, plot_tree\n",
        "\n",
        "\n",
        "kdd99_names_url = 'http://kdd.ics.uci.edu/databases/kddcup99/kddcup.names'\n",
        "training_attack_types ='http://kdd.ics.uci.edu/databases/kddcup99/training_attack_types'\n",
        "kdd99_20p_filename = 'KDDTrain+_20Percent.csv'\n",
        "kdd99_20p_url = \"https://gist.githubusercontent.com/sblack4/3a34ebf5a8f02629f3f5ab8547c2f85f/raw/1985460fe1b036c28c0235871c6e770409be4e5b/KDDTrain+_20Percent.csv\""
      ],
      "execution_count": 118,
      "outputs": []
    },
    {
      "cell_type": "markdown",
      "metadata": {
        "id": "AwGnB5BQnGSy"
      },
      "source": [
        "### 0.3 Download remaining files\n",
        "\n",
        "Download the files containing the column names and a map of the attacks and their type. "
      ]
    },
    {
      "cell_type": "code",
      "metadata": {
        "id": "enzfUVtXtejZ",
        "outputId": "7c1b43e5-f583-41cd-90f0-7c2cfaaa2332",
        "colab": {
          "base_uri": "https://localhost:8080/",
          "height": 34
        }
      },
      "source": [
        "def dl_file(url):\n",
        "  filename = os.path.basename(url)\n",
        "  with open(filename, 'wb') as fh:\n",
        "    r = requests.get(url)\n",
        "    fh.write(r.content)\n",
        "  return filename\n",
        "\n",
        "files_to_dl = [kdd99_names_url, training_attack_types, kdd99_20p_url]\n",
        "\n",
        "list(map(dl_file, files_to_dl))"
      ],
      "execution_count": 90,
      "outputs": [
        {
          "output_type": "execute_result",
          "data": {
            "text/plain": [
              "['kddcup.names', 'training_attack_types', 'KDDTrain+_20Percent.csv']"
            ]
          },
          "metadata": {
            "tags": []
          },
          "execution_count": 90
        }
      ]
    },
    {
      "cell_type": "markdown",
      "metadata": {
        "id": "cLGJE4LvnLYN"
      },
      "source": [
        "### 0.4 View file contents\n",
        "\n",
        "A quick looks at the first few lines for the three files. The data is raw and needs to be extracted. Without greater context it's pretty meaningless to us. The `head` command is used to quickly get these first few lines from through the shell. "
      ]
    },
    {
      "cell_type": "code",
      "metadata": {
        "id": "cXAs7or_goKR",
        "outputId": "898b3fd7-a63c-4967-b168-d68efbb223ad",
        "colab": {
          "base_uri": "https://localhost:8080/",
          "height": 34
        }
      },
      "source": [
        "!head KDDTrain+_20Percent.txt"
      ],
      "execution_count": 91,
      "outputs": [
        {
          "output_type": "stream",
          "text": [
            "head: cannot open 'KDDTrain+_20Percent.txt' for reading: No such file or directory\n"
          ],
          "name": "stdout"
        }
      ]
    },
    {
      "cell_type": "code",
      "metadata": {
        "id": "8I2lhbWcgnmE",
        "outputId": "e2eb1ad7-3e81-4c6c-d618-391fd92e128e",
        "colab": {
          "base_uri": "https://localhost:8080/",
          "height": 207
        }
      },
      "source": [
        "!head kddcup.names"
      ],
      "execution_count": 92,
      "outputs": [
        {
          "output_type": "stream",
          "text": [
            "back,buffer_overflow,ftp_write,guess_passwd,imap,ipsweep,land,loadmodule,multihop,neptune,nmap,normal,perl,phf,pod,portsweep,rootkit,satan,smurf,spy,teardrop,warezclient,warezmaster.\n",
            "duration: continuous.\n",
            "protocol_type: symbolic.\n",
            "service: symbolic.\n",
            "flag: symbolic.\n",
            "src_bytes: continuous.\n",
            "dst_bytes: continuous.\n",
            "land: symbolic.\n",
            "wrong_fragment: continuous.\n",
            "urgent: continuous.\n"
          ],
          "name": "stdout"
        }
      ]
    },
    {
      "cell_type": "code",
      "metadata": {
        "id": "NQgOSRN6gndH",
        "outputId": "8188170e-1226-46df-b328-c9bbcae84b03",
        "colab": {
          "base_uri": "https://localhost:8080/",
          "height": 187
        }
      },
      "source": [
        "!head training_attack_types"
      ],
      "execution_count": 93,
      "outputs": [
        {
          "output_type": "stream",
          "text": [
            "back dos\n",
            "buffer_overflow u2r\n",
            "ftp_write r2l\n",
            "guess_passwd r2l\n",
            "imap r2l\n",
            "ipsweep probe\n",
            "land dos\n",
            "loadmodule u2r\n",
            "multihop r2l\n",
            "neptune dos\n"
          ],
          "name": "stdout"
        }
      ]
    },
    {
      "cell_type": "markdown",
      "metadata": {
        "id": "qGyYVx5nnRf6"
      },
      "source": [
        "### 0.5 Load labels and data\n",
        "\n",
        "Here the files are read, parsed, and stored as variables so that we can manipulate them. The first file, `kddcup.names` has the colum names in it. In addition to the column names listed in the file the authors have added columns with the attack type and a number associated with successful predictions by one of several predicted labels [1]. \n",
        "\n",
        "These values are listed in Fig 1.\n"
      ]
    },
    {
      "cell_type": "code",
      "metadata": {
        "id": "FV3cW9gtXCmO"
      },
      "source": [
        "with open('kddcup.names', 'r') as fh:\n",
        "  fh.readline() # get rid of the first line\n",
        "  lines = fh.readlines()\n",
        "\n",
        "col_names = []\n",
        "for line in lines:\n",
        "  name = line.split(':')[0]\n",
        "  col_names.append(name)\n",
        "\n",
        "# the last one is the target, attack_type\n",
        "col_names.append('attack_type')\n",
        "col_names.append('successfulPredictions')"
      ],
      "execution_count": 94,
      "outputs": []
    },
    {
      "cell_type": "markdown",
      "metadata": {
        "id": "otqbTfnvW5_h"
      },
      "source": [
        "### Fig 1. Column Names"
      ]
    },
    {
      "cell_type": "code",
      "metadata": {
        "id": "xQygKj6Kx-Q_",
        "outputId": "76c58e09-a82c-428f-8938-622ddf21cd99",
        "colab": {
          "base_uri": "https://localhost:8080/",
          "height": 748
        }
      },
      "source": [
        "for nm in col_names: print('  - ' + nm)"
      ],
      "execution_count": 95,
      "outputs": [
        {
          "output_type": "stream",
          "text": [
            "  - duration\n",
            "  - protocol_type\n",
            "  - service\n",
            "  - flag\n",
            "  - src_bytes\n",
            "  - dst_bytes\n",
            "  - land\n",
            "  - wrong_fragment\n",
            "  - urgent\n",
            "  - hot\n",
            "  - num_failed_logins\n",
            "  - logged_in\n",
            "  - num_compromised\n",
            "  - root_shell\n",
            "  - su_attempted\n",
            "  - num_root\n",
            "  - num_file_creations\n",
            "  - num_shells\n",
            "  - num_access_files\n",
            "  - num_outbound_cmds\n",
            "  - is_host_login\n",
            "  - is_guest_login\n",
            "  - count\n",
            "  - srv_count\n",
            "  - serror_rate\n",
            "  - srv_serror_rate\n",
            "  - rerror_rate\n",
            "  - srv_rerror_rate\n",
            "  - same_srv_rate\n",
            "  - diff_srv_rate\n",
            "  - srv_diff_host_rate\n",
            "  - dst_host_count\n",
            "  - dst_host_srv_count\n",
            "  - dst_host_same_srv_rate\n",
            "  - dst_host_diff_srv_rate\n",
            "  - dst_host_same_src_port_rate\n",
            "  - dst_host_srv_diff_host_rate\n",
            "  - dst_host_serror_rate\n",
            "  - dst_host_srv_serror_rate\n",
            "  - dst_host_rerror_rate\n",
            "  - dst_host_srv_rerror_rate\n",
            "  - attack_type\n",
            "  - successfulPredictions\n"
          ],
          "name": "stdout"
        }
      ]
    },
    {
      "cell_type": "markdown",
      "metadata": {
        "id": "XrnsgWX6LTuk"
      },
      "source": [
        "The second file, `training_attack_types`, has a mapping between attack names and their more general attack type. This mapping reduces the 23 attacks to 4 types of attacks. This four-way classification of the dataset retains some information regarding the details of the attack. In the dataset there are not just records of attacks but also records of a normal state for our system. [2,3]\n",
        "\n",
        "The mapping is printed in Fig 2 below.\n"
      ]
    },
    {
      "cell_type": "code",
      "metadata": {
        "id": "V2xvg_Nlv_C_",
        "outputId": "7e03c70c-c620-49f8-e9be-583c3fdf28b6",
        "colab": {
          "base_uri": "https://localhost:8080/",
          "height": 68
        }
      },
      "source": [
        "with open('training_attack_types', 'r') as fh:\n",
        "  lines = fh.readlines()\n",
        "\n",
        "print('-'*24)\n",
        "print(f'{\"Attack \".rjust(16, \" \")}-> type')\n",
        "print('-'*24)\n",
        "attack_types = {}\n",
        "for line in lines:\n",
        "  line = line.replace('\\n', '')\n",
        "  if not line: continue\n",
        "  typ = line.split(' ')[0]\n",
        "  cls = line.split(' ')[1]\n",
        "  attack_types[typ] = cls"
      ],
      "execution_count": 96,
      "outputs": [
        {
          "output_type": "stream",
          "text": [
            "------------------------\n",
            "         Attack -> type\n",
            "------------------------\n"
          ],
          "name": "stdout"
        }
      ]
    },
    {
      "cell_type": "markdown",
      "metadata": {
        "id": "PICpUIF7WojZ"
      },
      "source": [
        "### Fig 2. Map of Attack Types"
      ]
    },
    {
      "cell_type": "code",
      "metadata": {
        "id": "sbQ1YNRSWnRj",
        "outputId": "94684e48-2d19-4410-ea0e-8c9d0598a3b5",
        "colab": {
          "base_uri": "https://localhost:8080/",
          "height": 391
        }
      },
      "source": [
        "for typ, cls in attack_types.items(): print(f'{typ.ljust(16, \" \")}-> {cls}')"
      ],
      "execution_count": 97,
      "outputs": [
        {
          "output_type": "stream",
          "text": [
            "back            -> dos\n",
            "buffer_overflow -> u2r\n",
            "ftp_write       -> r2l\n",
            "guess_passwd    -> r2l\n",
            "imap            -> r2l\n",
            "ipsweep         -> probe\n",
            "land            -> dos\n",
            "loadmodule      -> u2r\n",
            "multihop        -> r2l\n",
            "neptune         -> dos\n",
            "nmap            -> probe\n",
            "perl            -> u2r\n",
            "phf             -> r2l\n",
            "pod             -> dos\n",
            "portsweep       -> probe\n",
            "rootkit         -> u2r\n",
            "satan           -> probe\n",
            "smurf           -> dos\n",
            "spy             -> r2l\n",
            "teardrop        -> dos\n",
            "warezclient     -> r2l\n",
            "warezmaster     -> r2l\n"
          ],
          "name": "stdout"
        }
      ]
    },
    {
      "cell_type": "markdown",
      "metadata": {
        "id": "6Gt8PTUInZp7"
      },
      "source": [
        "### 0.6 Create DataFrame from labels and data\n",
        "\n",
        "Finally we will load our data file, `KDDTrain+_20Percent.txt`. First, the pandas library is used to read it into a DataFrame with the column names we listed above. Then, the attack type (or similarly class) is appended as a column named `attack_type` and derived from the mapping above. Finally, we see the first five lines at the head of the DataFrame in Fig 3."
      ]
    },
    {
      "cell_type": "code",
      "metadata": {
        "id": "lxfN4HlhwCfy"
      },
      "source": [
        "kdd99_20p_df = pd.read_csv(kdd99_20p_filename, names=col_names, index_col=None)\n",
        "\n",
        "kdd99_20p_df['attack_class'] = kdd99_20p_df.apply(\n",
        "    lambda x: 'normal' if x['attack_type'] == 'normal' else attack_types[x['attack_type']], \n",
        "    axis=1)"
      ],
      "execution_count": 98,
      "outputs": []
    },
    {
      "cell_type": "markdown",
      "metadata": {
        "id": "vEsfgpsfV_Eb"
      },
      "source": [
        "### Fig 3. First Five Rows"
      ]
    },
    {
      "cell_type": "code",
      "metadata": {
        "id": "vjUI42PBV9uq",
        "outputId": "1901c26b-1670-4a78-c77f-32a875161358",
        "colab": {
          "base_uri": "https://localhost:8080/",
          "height": 224
        }
      },
      "source": [
        "kdd99_20p_df.head()"
      ],
      "execution_count": 99,
      "outputs": [
        {
          "output_type": "execute_result",
          "data": {
            "text/html": [
              "<div>\n",
              "<style scoped>\n",
              "    .dataframe tbody tr th:only-of-type {\n",
              "        vertical-align: middle;\n",
              "    }\n",
              "\n",
              "    .dataframe tbody tr th {\n",
              "        vertical-align: top;\n",
              "    }\n",
              "\n",
              "    .dataframe thead th {\n",
              "        text-align: right;\n",
              "    }\n",
              "</style>\n",
              "<table border=\"1\" class=\"dataframe\">\n",
              "  <thead>\n",
              "    <tr style=\"text-align: right;\">\n",
              "      <th></th>\n",
              "      <th>duration</th>\n",
              "      <th>protocol_type</th>\n",
              "      <th>service</th>\n",
              "      <th>flag</th>\n",
              "      <th>src_bytes</th>\n",
              "      <th>dst_bytes</th>\n",
              "      <th>land</th>\n",
              "      <th>wrong_fragment</th>\n",
              "      <th>urgent</th>\n",
              "      <th>hot</th>\n",
              "      <th>num_failed_logins</th>\n",
              "      <th>logged_in</th>\n",
              "      <th>num_compromised</th>\n",
              "      <th>root_shell</th>\n",
              "      <th>su_attempted</th>\n",
              "      <th>num_root</th>\n",
              "      <th>num_file_creations</th>\n",
              "      <th>num_shells</th>\n",
              "      <th>num_access_files</th>\n",
              "      <th>num_outbound_cmds</th>\n",
              "      <th>is_host_login</th>\n",
              "      <th>is_guest_login</th>\n",
              "      <th>count</th>\n",
              "      <th>srv_count</th>\n",
              "      <th>serror_rate</th>\n",
              "      <th>srv_serror_rate</th>\n",
              "      <th>rerror_rate</th>\n",
              "      <th>srv_rerror_rate</th>\n",
              "      <th>same_srv_rate</th>\n",
              "      <th>diff_srv_rate</th>\n",
              "      <th>srv_diff_host_rate</th>\n",
              "      <th>dst_host_count</th>\n",
              "      <th>dst_host_srv_count</th>\n",
              "      <th>dst_host_same_srv_rate</th>\n",
              "      <th>dst_host_diff_srv_rate</th>\n",
              "      <th>dst_host_same_src_port_rate</th>\n",
              "      <th>dst_host_srv_diff_host_rate</th>\n",
              "      <th>dst_host_serror_rate</th>\n",
              "      <th>dst_host_srv_serror_rate</th>\n",
              "      <th>dst_host_rerror_rate</th>\n",
              "      <th>dst_host_srv_rerror_rate</th>\n",
              "      <th>attack_type</th>\n",
              "      <th>successfulPredictions</th>\n",
              "      <th>attack_class</th>\n",
              "    </tr>\n",
              "  </thead>\n",
              "  <tbody>\n",
              "    <tr>\n",
              "      <th>0</th>\n",
              "      <td>0</td>\n",
              "      <td>tcp</td>\n",
              "      <td>ftp_data</td>\n",
              "      <td>SF</td>\n",
              "      <td>491</td>\n",
              "      <td>0</td>\n",
              "      <td>0</td>\n",
              "      <td>0</td>\n",
              "      <td>0</td>\n",
              "      <td>0</td>\n",
              "      <td>0</td>\n",
              "      <td>0</td>\n",
              "      <td>0</td>\n",
              "      <td>0</td>\n",
              "      <td>0</td>\n",
              "      <td>0</td>\n",
              "      <td>0</td>\n",
              "      <td>0</td>\n",
              "      <td>0</td>\n",
              "      <td>0</td>\n",
              "      <td>0</td>\n",
              "      <td>0</td>\n",
              "      <td>2</td>\n",
              "      <td>2</td>\n",
              "      <td>0.0</td>\n",
              "      <td>0.0</td>\n",
              "      <td>0.0</td>\n",
              "      <td>0.0</td>\n",
              "      <td>1.00</td>\n",
              "      <td>0.00</td>\n",
              "      <td>0.00</td>\n",
              "      <td>150</td>\n",
              "      <td>25</td>\n",
              "      <td>0.17</td>\n",
              "      <td>0.03</td>\n",
              "      <td>0.17</td>\n",
              "      <td>0.00</td>\n",
              "      <td>0.00</td>\n",
              "      <td>0.00</td>\n",
              "      <td>0.05</td>\n",
              "      <td>0.00</td>\n",
              "      <td>normal</td>\n",
              "      <td>20</td>\n",
              "      <td>normal</td>\n",
              "    </tr>\n",
              "    <tr>\n",
              "      <th>1</th>\n",
              "      <td>0</td>\n",
              "      <td>udp</td>\n",
              "      <td>other</td>\n",
              "      <td>SF</td>\n",
              "      <td>146</td>\n",
              "      <td>0</td>\n",
              "      <td>0</td>\n",
              "      <td>0</td>\n",
              "      <td>0</td>\n",
              "      <td>0</td>\n",
              "      <td>0</td>\n",
              "      <td>0</td>\n",
              "      <td>0</td>\n",
              "      <td>0</td>\n",
              "      <td>0</td>\n",
              "      <td>0</td>\n",
              "      <td>0</td>\n",
              "      <td>0</td>\n",
              "      <td>0</td>\n",
              "      <td>0</td>\n",
              "      <td>0</td>\n",
              "      <td>0</td>\n",
              "      <td>13</td>\n",
              "      <td>1</td>\n",
              "      <td>0.0</td>\n",
              "      <td>0.0</td>\n",
              "      <td>0.0</td>\n",
              "      <td>0.0</td>\n",
              "      <td>0.08</td>\n",
              "      <td>0.15</td>\n",
              "      <td>0.00</td>\n",
              "      <td>255</td>\n",
              "      <td>1</td>\n",
              "      <td>0.00</td>\n",
              "      <td>0.60</td>\n",
              "      <td>0.88</td>\n",
              "      <td>0.00</td>\n",
              "      <td>0.00</td>\n",
              "      <td>0.00</td>\n",
              "      <td>0.00</td>\n",
              "      <td>0.00</td>\n",
              "      <td>normal</td>\n",
              "      <td>15</td>\n",
              "      <td>normal</td>\n",
              "    </tr>\n",
              "    <tr>\n",
              "      <th>2</th>\n",
              "      <td>0</td>\n",
              "      <td>tcp</td>\n",
              "      <td>private</td>\n",
              "      <td>S0</td>\n",
              "      <td>0</td>\n",
              "      <td>0</td>\n",
              "      <td>0</td>\n",
              "      <td>0</td>\n",
              "      <td>0</td>\n",
              "      <td>0</td>\n",
              "      <td>0</td>\n",
              "      <td>0</td>\n",
              "      <td>0</td>\n",
              "      <td>0</td>\n",
              "      <td>0</td>\n",
              "      <td>0</td>\n",
              "      <td>0</td>\n",
              "      <td>0</td>\n",
              "      <td>0</td>\n",
              "      <td>0</td>\n",
              "      <td>0</td>\n",
              "      <td>0</td>\n",
              "      <td>123</td>\n",
              "      <td>6</td>\n",
              "      <td>1.0</td>\n",
              "      <td>1.0</td>\n",
              "      <td>0.0</td>\n",
              "      <td>0.0</td>\n",
              "      <td>0.05</td>\n",
              "      <td>0.07</td>\n",
              "      <td>0.00</td>\n",
              "      <td>255</td>\n",
              "      <td>26</td>\n",
              "      <td>0.10</td>\n",
              "      <td>0.05</td>\n",
              "      <td>0.00</td>\n",
              "      <td>0.00</td>\n",
              "      <td>1.00</td>\n",
              "      <td>1.00</td>\n",
              "      <td>0.00</td>\n",
              "      <td>0.00</td>\n",
              "      <td>neptune</td>\n",
              "      <td>19</td>\n",
              "      <td>dos</td>\n",
              "    </tr>\n",
              "    <tr>\n",
              "      <th>3</th>\n",
              "      <td>0</td>\n",
              "      <td>tcp</td>\n",
              "      <td>http</td>\n",
              "      <td>SF</td>\n",
              "      <td>232</td>\n",
              "      <td>8153</td>\n",
              "      <td>0</td>\n",
              "      <td>0</td>\n",
              "      <td>0</td>\n",
              "      <td>0</td>\n",
              "      <td>0</td>\n",
              "      <td>1</td>\n",
              "      <td>0</td>\n",
              "      <td>0</td>\n",
              "      <td>0</td>\n",
              "      <td>0</td>\n",
              "      <td>0</td>\n",
              "      <td>0</td>\n",
              "      <td>0</td>\n",
              "      <td>0</td>\n",
              "      <td>0</td>\n",
              "      <td>0</td>\n",
              "      <td>5</td>\n",
              "      <td>5</td>\n",
              "      <td>0.2</td>\n",
              "      <td>0.2</td>\n",
              "      <td>0.0</td>\n",
              "      <td>0.0</td>\n",
              "      <td>1.00</td>\n",
              "      <td>0.00</td>\n",
              "      <td>0.00</td>\n",
              "      <td>30</td>\n",
              "      <td>255</td>\n",
              "      <td>1.00</td>\n",
              "      <td>0.00</td>\n",
              "      <td>0.03</td>\n",
              "      <td>0.04</td>\n",
              "      <td>0.03</td>\n",
              "      <td>0.01</td>\n",
              "      <td>0.00</td>\n",
              "      <td>0.01</td>\n",
              "      <td>normal</td>\n",
              "      <td>21</td>\n",
              "      <td>normal</td>\n",
              "    </tr>\n",
              "    <tr>\n",
              "      <th>4</th>\n",
              "      <td>0</td>\n",
              "      <td>tcp</td>\n",
              "      <td>http</td>\n",
              "      <td>SF</td>\n",
              "      <td>199</td>\n",
              "      <td>420</td>\n",
              "      <td>0</td>\n",
              "      <td>0</td>\n",
              "      <td>0</td>\n",
              "      <td>0</td>\n",
              "      <td>0</td>\n",
              "      <td>1</td>\n",
              "      <td>0</td>\n",
              "      <td>0</td>\n",
              "      <td>0</td>\n",
              "      <td>0</td>\n",
              "      <td>0</td>\n",
              "      <td>0</td>\n",
              "      <td>0</td>\n",
              "      <td>0</td>\n",
              "      <td>0</td>\n",
              "      <td>0</td>\n",
              "      <td>30</td>\n",
              "      <td>32</td>\n",
              "      <td>0.0</td>\n",
              "      <td>0.0</td>\n",
              "      <td>0.0</td>\n",
              "      <td>0.0</td>\n",
              "      <td>1.00</td>\n",
              "      <td>0.00</td>\n",
              "      <td>0.09</td>\n",
              "      <td>255</td>\n",
              "      <td>255</td>\n",
              "      <td>1.00</td>\n",
              "      <td>0.00</td>\n",
              "      <td>0.00</td>\n",
              "      <td>0.00</td>\n",
              "      <td>0.00</td>\n",
              "      <td>0.00</td>\n",
              "      <td>0.00</td>\n",
              "      <td>0.00</td>\n",
              "      <td>normal</td>\n",
              "      <td>21</td>\n",
              "      <td>normal</td>\n",
              "    </tr>\n",
              "  </tbody>\n",
              "</table>\n",
              "</div>"
            ],
            "text/plain": [
              "   duration protocol_type  ... successfulPredictions attack_class\n",
              "0         0           tcp  ...                    20       normal\n",
              "1         0           udp  ...                    15       normal\n",
              "2         0           tcp  ...                    19          dos\n",
              "3         0           tcp  ...                    21       normal\n",
              "4         0           tcp  ...                    21       normal\n",
              "\n",
              "[5 rows x 44 columns]"
            ]
          },
          "metadata": {
            "tags": []
          },
          "execution_count": 99
        }
      ]
    },
    {
      "cell_type": "markdown",
      "metadata": {
        "id": "UcvvyjM40eOy"
      },
      "source": [
        "## 1. Data Statistics\n",
        "\n",
        "The dataset is described using basic statistics in the next section. First we obtain the general shape of the dataset we are working with as given by rows and column in Fig 4. That is followed by the descriptive statistics for all the numerical columns in the dataset in Fig 5. This is followed by a refreshing chart showing some of the variation in our string variables, Fig 6. The categorical variables are investigated further with two charts showing the distributions for the attack type and the attack-class classification in Fig 7 & Fig 8. The largest class of our sample is `normal` and the attack type is the `neptune`, which dwarfs the other samples. Finally, the investigation concludes with a look into the covariance between numerical features in Fig 9. Highly correlated numerical features often are measuring the same underlying phenomena and so add no additional information but can confound predictors. Thus it behooves anyone aiming for an acccurate model to remove them.  \n"
      ]
    },
    {
      "cell_type": "markdown",
      "metadata": {
        "id": "CxJ0870tVlGI"
      },
      "source": [
        "#### Fig 4. Dataset Shape (rows, cols)"
      ]
    },
    {
      "cell_type": "code",
      "metadata": {
        "id": "aYTd33zcWpzG",
        "outputId": "be4c00a4-b380-4ff2-f44a-2eba66eec4e8",
        "colab": {
          "base_uri": "https://localhost:8080/",
          "height": 34
        }
      },
      "source": [
        "kdd99_20p_df.shape"
      ],
      "execution_count": 100,
      "outputs": [
        {
          "output_type": "execute_result",
          "data": {
            "text/plain": [
              "(25192, 44)"
            ]
          },
          "metadata": {
            "tags": []
          },
          "execution_count": 100
        }
      ]
    },
    {
      "cell_type": "markdown",
      "metadata": {
        "id": "vr-iFDODWJuS"
      },
      "source": [
        "#### Fig 5. Descriptive Statistics of Numerical Columns"
      ]
    },
    {
      "cell_type": "code",
      "metadata": {
        "id": "iz7piJO5xT5L",
        "outputId": "7571feb5-6c1a-4af0-96b0-9de31b21dbf5",
        "colab": {
          "base_uri": "https://localhost:8080/",
          "height": 317
        }
      },
      "source": [
        "kdd99_20p_df.describe()"
      ],
      "execution_count": 101,
      "outputs": [
        {
          "output_type": "execute_result",
          "data": {
            "text/html": [
              "<div>\n",
              "<style scoped>\n",
              "    .dataframe tbody tr th:only-of-type {\n",
              "        vertical-align: middle;\n",
              "    }\n",
              "\n",
              "    .dataframe tbody tr th {\n",
              "        vertical-align: top;\n",
              "    }\n",
              "\n",
              "    .dataframe thead th {\n",
              "        text-align: right;\n",
              "    }\n",
              "</style>\n",
              "<table border=\"1\" class=\"dataframe\">\n",
              "  <thead>\n",
              "    <tr style=\"text-align: right;\">\n",
              "      <th></th>\n",
              "      <th>duration</th>\n",
              "      <th>src_bytes</th>\n",
              "      <th>dst_bytes</th>\n",
              "      <th>land</th>\n",
              "      <th>wrong_fragment</th>\n",
              "      <th>urgent</th>\n",
              "      <th>hot</th>\n",
              "      <th>num_failed_logins</th>\n",
              "      <th>logged_in</th>\n",
              "      <th>num_compromised</th>\n",
              "      <th>root_shell</th>\n",
              "      <th>su_attempted</th>\n",
              "      <th>num_root</th>\n",
              "      <th>num_file_creations</th>\n",
              "      <th>num_shells</th>\n",
              "      <th>num_access_files</th>\n",
              "      <th>num_outbound_cmds</th>\n",
              "      <th>is_host_login</th>\n",
              "      <th>is_guest_login</th>\n",
              "      <th>count</th>\n",
              "      <th>srv_count</th>\n",
              "      <th>serror_rate</th>\n",
              "      <th>srv_serror_rate</th>\n",
              "      <th>rerror_rate</th>\n",
              "      <th>srv_rerror_rate</th>\n",
              "      <th>same_srv_rate</th>\n",
              "      <th>diff_srv_rate</th>\n",
              "      <th>srv_diff_host_rate</th>\n",
              "      <th>dst_host_count</th>\n",
              "      <th>dst_host_srv_count</th>\n",
              "      <th>dst_host_same_srv_rate</th>\n",
              "      <th>dst_host_diff_srv_rate</th>\n",
              "      <th>dst_host_same_src_port_rate</th>\n",
              "      <th>dst_host_srv_diff_host_rate</th>\n",
              "      <th>dst_host_serror_rate</th>\n",
              "      <th>dst_host_srv_serror_rate</th>\n",
              "      <th>dst_host_rerror_rate</th>\n",
              "      <th>dst_host_srv_rerror_rate</th>\n",
              "      <th>successfulPredictions</th>\n",
              "    </tr>\n",
              "  </thead>\n",
              "  <tbody>\n",
              "    <tr>\n",
              "      <th>count</th>\n",
              "      <td>25192.000000</td>\n",
              "      <td>2.519200e+04</td>\n",
              "      <td>2.519200e+04</td>\n",
              "      <td>25192.000000</td>\n",
              "      <td>25192.000000</td>\n",
              "      <td>25192.00000</td>\n",
              "      <td>25192.000000</td>\n",
              "      <td>25192.000000</td>\n",
              "      <td>25192.000000</td>\n",
              "      <td>25192.000000</td>\n",
              "      <td>25192.000000</td>\n",
              "      <td>25192.000000</td>\n",
              "      <td>25192.000000</td>\n",
              "      <td>25192.000000</td>\n",
              "      <td>25192.000000</td>\n",
              "      <td>25192.000000</td>\n",
              "      <td>25192.0</td>\n",
              "      <td>25192.0</td>\n",
              "      <td>25192.000000</td>\n",
              "      <td>25192.000000</td>\n",
              "      <td>25192.000000</td>\n",
              "      <td>25192.000000</td>\n",
              "      <td>25192.000000</td>\n",
              "      <td>25192.000000</td>\n",
              "      <td>25192.000000</td>\n",
              "      <td>25192.000000</td>\n",
              "      <td>25192.000000</td>\n",
              "      <td>25192.000000</td>\n",
              "      <td>25192.000000</td>\n",
              "      <td>25192.000000</td>\n",
              "      <td>25192.000000</td>\n",
              "      <td>25192.000000</td>\n",
              "      <td>25192.000000</td>\n",
              "      <td>25192.000000</td>\n",
              "      <td>25192.000000</td>\n",
              "      <td>25192.000000</td>\n",
              "      <td>25192.000000</td>\n",
              "      <td>25192.000000</td>\n",
              "      <td>25192.000000</td>\n",
              "    </tr>\n",
              "    <tr>\n",
              "      <th>mean</th>\n",
              "      <td>305.054104</td>\n",
              "      <td>2.433063e+04</td>\n",
              "      <td>3.491847e+03</td>\n",
              "      <td>0.000079</td>\n",
              "      <td>0.023738</td>\n",
              "      <td>0.00004</td>\n",
              "      <td>0.198039</td>\n",
              "      <td>0.001191</td>\n",
              "      <td>0.394768</td>\n",
              "      <td>0.227850</td>\n",
              "      <td>0.001548</td>\n",
              "      <td>0.001350</td>\n",
              "      <td>0.249841</td>\n",
              "      <td>0.014727</td>\n",
              "      <td>0.000357</td>\n",
              "      <td>0.004327</td>\n",
              "      <td>0.0</td>\n",
              "      <td>0.0</td>\n",
              "      <td>0.009130</td>\n",
              "      <td>84.591180</td>\n",
              "      <td>27.698754</td>\n",
              "      <td>0.286338</td>\n",
              "      <td>0.283762</td>\n",
              "      <td>0.118630</td>\n",
              "      <td>0.120260</td>\n",
              "      <td>0.660559</td>\n",
              "      <td>0.062363</td>\n",
              "      <td>0.095931</td>\n",
              "      <td>182.532074</td>\n",
              "      <td>115.063036</td>\n",
              "      <td>0.519791</td>\n",
              "      <td>0.082539</td>\n",
              "      <td>0.147453</td>\n",
              "      <td>0.031844</td>\n",
              "      <td>0.285800</td>\n",
              "      <td>0.279846</td>\n",
              "      <td>0.117800</td>\n",
              "      <td>0.118769</td>\n",
              "      <td>19.487695</td>\n",
              "    </tr>\n",
              "    <tr>\n",
              "      <th>std</th>\n",
              "      <td>2686.555640</td>\n",
              "      <td>2.410805e+06</td>\n",
              "      <td>8.883072e+04</td>\n",
              "      <td>0.008910</td>\n",
              "      <td>0.260221</td>\n",
              "      <td>0.00630</td>\n",
              "      <td>2.154202</td>\n",
              "      <td>0.045418</td>\n",
              "      <td>0.488811</td>\n",
              "      <td>10.417352</td>\n",
              "      <td>0.039316</td>\n",
              "      <td>0.048785</td>\n",
              "      <td>11.500842</td>\n",
              "      <td>0.529602</td>\n",
              "      <td>0.018898</td>\n",
              "      <td>0.098524</td>\n",
              "      <td>0.0</td>\n",
              "      <td>0.0</td>\n",
              "      <td>0.095115</td>\n",
              "      <td>114.673451</td>\n",
              "      <td>72.468242</td>\n",
              "      <td>0.447312</td>\n",
              "      <td>0.447599</td>\n",
              "      <td>0.318745</td>\n",
              "      <td>0.322335</td>\n",
              "      <td>0.439637</td>\n",
              "      <td>0.178550</td>\n",
              "      <td>0.256583</td>\n",
              "      <td>98.993895</td>\n",
              "      <td>110.646850</td>\n",
              "      <td>0.448944</td>\n",
              "      <td>0.187191</td>\n",
              "      <td>0.308367</td>\n",
              "      <td>0.110575</td>\n",
              "      <td>0.445316</td>\n",
              "      <td>0.446075</td>\n",
              "      <td>0.305869</td>\n",
              "      <td>0.317333</td>\n",
              "      <td>2.328541</td>\n",
              "    </tr>\n",
              "    <tr>\n",
              "      <th>min</th>\n",
              "      <td>0.000000</td>\n",
              "      <td>0.000000e+00</td>\n",
              "      <td>0.000000e+00</td>\n",
              "      <td>0.000000</td>\n",
              "      <td>0.000000</td>\n",
              "      <td>0.00000</td>\n",
              "      <td>0.000000</td>\n",
              "      <td>0.000000</td>\n",
              "      <td>0.000000</td>\n",
              "      <td>0.000000</td>\n",
              "      <td>0.000000</td>\n",
              "      <td>0.000000</td>\n",
              "      <td>0.000000</td>\n",
              "      <td>0.000000</td>\n",
              "      <td>0.000000</td>\n",
              "      <td>0.000000</td>\n",
              "      <td>0.0</td>\n",
              "      <td>0.0</td>\n",
              "      <td>0.000000</td>\n",
              "      <td>1.000000</td>\n",
              "      <td>1.000000</td>\n",
              "      <td>0.000000</td>\n",
              "      <td>0.000000</td>\n",
              "      <td>0.000000</td>\n",
              "      <td>0.000000</td>\n",
              "      <td>0.000000</td>\n",
              "      <td>0.000000</td>\n",
              "      <td>0.000000</td>\n",
              "      <td>0.000000</td>\n",
              "      <td>0.000000</td>\n",
              "      <td>0.000000</td>\n",
              "      <td>0.000000</td>\n",
              "      <td>0.000000</td>\n",
              "      <td>0.000000</td>\n",
              "      <td>0.000000</td>\n",
              "      <td>0.000000</td>\n",
              "      <td>0.000000</td>\n",
              "      <td>0.000000</td>\n",
              "      <td>0.000000</td>\n",
              "    </tr>\n",
              "    <tr>\n",
              "      <th>25%</th>\n",
              "      <td>0.000000</td>\n",
              "      <td>0.000000e+00</td>\n",
              "      <td>0.000000e+00</td>\n",
              "      <td>0.000000</td>\n",
              "      <td>0.000000</td>\n",
              "      <td>0.00000</td>\n",
              "      <td>0.000000</td>\n",
              "      <td>0.000000</td>\n",
              "      <td>0.000000</td>\n",
              "      <td>0.000000</td>\n",
              "      <td>0.000000</td>\n",
              "      <td>0.000000</td>\n",
              "      <td>0.000000</td>\n",
              "      <td>0.000000</td>\n",
              "      <td>0.000000</td>\n",
              "      <td>0.000000</td>\n",
              "      <td>0.0</td>\n",
              "      <td>0.0</td>\n",
              "      <td>0.000000</td>\n",
              "      <td>2.000000</td>\n",
              "      <td>2.000000</td>\n",
              "      <td>0.000000</td>\n",
              "      <td>0.000000</td>\n",
              "      <td>0.000000</td>\n",
              "      <td>0.000000</td>\n",
              "      <td>0.090000</td>\n",
              "      <td>0.000000</td>\n",
              "      <td>0.000000</td>\n",
              "      <td>84.000000</td>\n",
              "      <td>10.000000</td>\n",
              "      <td>0.050000</td>\n",
              "      <td>0.000000</td>\n",
              "      <td>0.000000</td>\n",
              "      <td>0.000000</td>\n",
              "      <td>0.000000</td>\n",
              "      <td>0.000000</td>\n",
              "      <td>0.000000</td>\n",
              "      <td>0.000000</td>\n",
              "      <td>18.000000</td>\n",
              "    </tr>\n",
              "    <tr>\n",
              "      <th>50%</th>\n",
              "      <td>0.000000</td>\n",
              "      <td>4.400000e+01</td>\n",
              "      <td>0.000000e+00</td>\n",
              "      <td>0.000000</td>\n",
              "      <td>0.000000</td>\n",
              "      <td>0.00000</td>\n",
              "      <td>0.000000</td>\n",
              "      <td>0.000000</td>\n",
              "      <td>0.000000</td>\n",
              "      <td>0.000000</td>\n",
              "      <td>0.000000</td>\n",
              "      <td>0.000000</td>\n",
              "      <td>0.000000</td>\n",
              "      <td>0.000000</td>\n",
              "      <td>0.000000</td>\n",
              "      <td>0.000000</td>\n",
              "      <td>0.0</td>\n",
              "      <td>0.0</td>\n",
              "      <td>0.000000</td>\n",
              "      <td>14.000000</td>\n",
              "      <td>8.000000</td>\n",
              "      <td>0.000000</td>\n",
              "      <td>0.000000</td>\n",
              "      <td>0.000000</td>\n",
              "      <td>0.000000</td>\n",
              "      <td>1.000000</td>\n",
              "      <td>0.000000</td>\n",
              "      <td>0.000000</td>\n",
              "      <td>255.000000</td>\n",
              "      <td>61.000000</td>\n",
              "      <td>0.510000</td>\n",
              "      <td>0.030000</td>\n",
              "      <td>0.000000</td>\n",
              "      <td>0.000000</td>\n",
              "      <td>0.000000</td>\n",
              "      <td>0.000000</td>\n",
              "      <td>0.000000</td>\n",
              "      <td>0.000000</td>\n",
              "      <td>20.000000</td>\n",
              "    </tr>\n",
              "    <tr>\n",
              "      <th>75%</th>\n",
              "      <td>0.000000</td>\n",
              "      <td>2.790000e+02</td>\n",
              "      <td>5.302500e+02</td>\n",
              "      <td>0.000000</td>\n",
              "      <td>0.000000</td>\n",
              "      <td>0.00000</td>\n",
              "      <td>0.000000</td>\n",
              "      <td>0.000000</td>\n",
              "      <td>1.000000</td>\n",
              "      <td>0.000000</td>\n",
              "      <td>0.000000</td>\n",
              "      <td>0.000000</td>\n",
              "      <td>0.000000</td>\n",
              "      <td>0.000000</td>\n",
              "      <td>0.000000</td>\n",
              "      <td>0.000000</td>\n",
              "      <td>0.0</td>\n",
              "      <td>0.0</td>\n",
              "      <td>0.000000</td>\n",
              "      <td>144.000000</td>\n",
              "      <td>18.000000</td>\n",
              "      <td>1.000000</td>\n",
              "      <td>1.000000</td>\n",
              "      <td>0.000000</td>\n",
              "      <td>0.000000</td>\n",
              "      <td>1.000000</td>\n",
              "      <td>0.060000</td>\n",
              "      <td>0.000000</td>\n",
              "      <td>255.000000</td>\n",
              "      <td>255.000000</td>\n",
              "      <td>1.000000</td>\n",
              "      <td>0.070000</td>\n",
              "      <td>0.060000</td>\n",
              "      <td>0.020000</td>\n",
              "      <td>1.000000</td>\n",
              "      <td>1.000000</td>\n",
              "      <td>0.000000</td>\n",
              "      <td>0.000000</td>\n",
              "      <td>21.000000</td>\n",
              "    </tr>\n",
              "    <tr>\n",
              "      <th>max</th>\n",
              "      <td>42862.000000</td>\n",
              "      <td>3.817091e+08</td>\n",
              "      <td>5.151385e+06</td>\n",
              "      <td>1.000000</td>\n",
              "      <td>3.000000</td>\n",
              "      <td>1.00000</td>\n",
              "      <td>77.000000</td>\n",
              "      <td>4.000000</td>\n",
              "      <td>1.000000</td>\n",
              "      <td>884.000000</td>\n",
              "      <td>1.000000</td>\n",
              "      <td>2.000000</td>\n",
              "      <td>975.000000</td>\n",
              "      <td>40.000000</td>\n",
              "      <td>1.000000</td>\n",
              "      <td>8.000000</td>\n",
              "      <td>0.0</td>\n",
              "      <td>0.0</td>\n",
              "      <td>1.000000</td>\n",
              "      <td>511.000000</td>\n",
              "      <td>511.000000</td>\n",
              "      <td>1.000000</td>\n",
              "      <td>1.000000</td>\n",
              "      <td>1.000000</td>\n",
              "      <td>1.000000</td>\n",
              "      <td>1.000000</td>\n",
              "      <td>1.000000</td>\n",
              "      <td>1.000000</td>\n",
              "      <td>255.000000</td>\n",
              "      <td>255.000000</td>\n",
              "      <td>1.000000</td>\n",
              "      <td>1.000000</td>\n",
              "      <td>1.000000</td>\n",
              "      <td>1.000000</td>\n",
              "      <td>1.000000</td>\n",
              "      <td>1.000000</td>\n",
              "      <td>1.000000</td>\n",
              "      <td>1.000000</td>\n",
              "      <td>21.000000</td>\n",
              "    </tr>\n",
              "  </tbody>\n",
              "</table>\n",
              "</div>"
            ],
            "text/plain": [
              "           duration  ...  successfulPredictions\n",
              "count  25192.000000  ...           25192.000000\n",
              "mean     305.054104  ...              19.487695\n",
              "std     2686.555640  ...               2.328541\n",
              "min        0.000000  ...               0.000000\n",
              "25%        0.000000  ...              18.000000\n",
              "50%        0.000000  ...              20.000000\n",
              "75%        0.000000  ...              21.000000\n",
              "max    42862.000000  ...              21.000000\n",
              "\n",
              "[8 rows x 39 columns]"
            ]
          },
          "metadata": {
            "tags": []
          },
          "execution_count": 101
        }
      ]
    },
    {
      "cell_type": "markdown",
      "metadata": {
        "id": "KommJbnuXpr5"
      },
      "source": [
        "### Fig 6: Description of Categorical Variables"
      ]
    },
    {
      "cell_type": "code",
      "metadata": {
        "id": "eiv_6rI1xgV9",
        "outputId": "8dde9fad-b196-43fe-d8ed-922d552eb3db",
        "colab": {
          "base_uri": "https://localhost:8080/",
          "height": 173
        }
      },
      "source": [
        "kdd99_20p_df.describe(include=['object'])"
      ],
      "execution_count": 102,
      "outputs": [
        {
          "output_type": "execute_result",
          "data": {
            "text/html": [
              "<div>\n",
              "<style scoped>\n",
              "    .dataframe tbody tr th:only-of-type {\n",
              "        vertical-align: middle;\n",
              "    }\n",
              "\n",
              "    .dataframe tbody tr th {\n",
              "        vertical-align: top;\n",
              "    }\n",
              "\n",
              "    .dataframe thead th {\n",
              "        text-align: right;\n",
              "    }\n",
              "</style>\n",
              "<table border=\"1\" class=\"dataframe\">\n",
              "  <thead>\n",
              "    <tr style=\"text-align: right;\">\n",
              "      <th></th>\n",
              "      <th>protocol_type</th>\n",
              "      <th>service</th>\n",
              "      <th>flag</th>\n",
              "      <th>attack_type</th>\n",
              "      <th>attack_class</th>\n",
              "    </tr>\n",
              "  </thead>\n",
              "  <tbody>\n",
              "    <tr>\n",
              "      <th>count</th>\n",
              "      <td>25192</td>\n",
              "      <td>25192</td>\n",
              "      <td>25192</td>\n",
              "      <td>25192</td>\n",
              "      <td>25192</td>\n",
              "    </tr>\n",
              "    <tr>\n",
              "      <th>unique</th>\n",
              "      <td>3</td>\n",
              "      <td>66</td>\n",
              "      <td>11</td>\n",
              "      <td>22</td>\n",
              "      <td>5</td>\n",
              "    </tr>\n",
              "    <tr>\n",
              "      <th>top</th>\n",
              "      <td>tcp</td>\n",
              "      <td>http</td>\n",
              "      <td>SF</td>\n",
              "      <td>normal</td>\n",
              "      <td>normal</td>\n",
              "    </tr>\n",
              "    <tr>\n",
              "      <th>freq</th>\n",
              "      <td>20526</td>\n",
              "      <td>8003</td>\n",
              "      <td>14973</td>\n",
              "      <td>13449</td>\n",
              "      <td>13449</td>\n",
              "    </tr>\n",
              "  </tbody>\n",
              "</table>\n",
              "</div>"
            ],
            "text/plain": [
              "       protocol_type service   flag attack_type attack_class\n",
              "count          25192   25192  25192       25192        25192\n",
              "unique             3      66     11          22            5\n",
              "top              tcp    http     SF      normal       normal\n",
              "freq           20526    8003  14973       13449        13449"
            ]
          },
          "metadata": {
            "tags": []
          },
          "execution_count": 102
        }
      ]
    },
    {
      "cell_type": "markdown",
      "metadata": {
        "id": "5PGBoZzhYG8i"
      },
      "source": [
        "### Fig 7. Bar Graph of Attack type"
      ]
    },
    {
      "cell_type": "code",
      "metadata": {
        "id": "aldHdHN-vWP7",
        "outputId": "1bf971e4-17ab-49be-e77f-193442664db6",
        "colab": {
          "base_uri": "https://localhost:8080/",
          "height": 863
        }
      },
      "source": [
        "fig = plt.figure()\n",
        "fig = kdd99_20p_df['attack_type'].value_counts().plot(figsize=(20, 15), kind=\"barh\")\n",
        "plt.show()"
      ],
      "execution_count": 155,
      "outputs": [
        {
          "output_type": "display_data",
          "data": {
            "image/png": "[encoded data removed]",
            "text/plain": [
              "<Figure size 1440x1080 with 1 Axes>"
            ]
          },
          "metadata": {
            "tags": [],
            "needs_background": "light"
          }
        }
      ]
    },
    {
      "cell_type": "markdown",
      "metadata": {
        "id": "yVIfJD79YC37"
      },
      "source": [
        "### Fig 8. Bar Graph of Attack Class"
      ]
    },
    {
      "cell_type": "code",
      "metadata": {
        "id": "azDh9uOgv5YJ",
        "outputId": "d0b485b3-fac6-4708-f775-0ff15199cc04",
        "colab": {
          "base_uri": "https://localhost:8080/",
          "height": 592
        }
      },
      "source": [
        "plt.figure(figsize=(15, 10))\n",
        "kdd99_20p_df['attack_class'].value_counts().plot(kind=\"barh\")\n",
        "plt.show()"
      ],
      "execution_count": 104,
      "outputs": [
        {
          "output_type": "display_data",
          "data": {
            "image/png": "[encoded data removed]",
            "text/plain": [
              "<Figure size 1080x720 with 1 Axes>"
            ]
          },
          "metadata": {
            "tags": [],
            "needs_background": "light"
          }
        }
      ]
    },
    {
      "cell_type": "markdown",
      "metadata": {
        "id": "9NPkdVeBX61q"
      },
      "source": [
        "### Fig 9. Pairwise Correlation for floating point values"
      ]
    },
    {
      "cell_type": "code",
      "metadata": {
        "id": "TSTFbjzQyB_m",
        "outputId": "cdc5fed4-9e32-45f2-9f65-c432c8709929",
        "colab": {
          "base_uri": "https://localhost:8080/",
          "height": 747
        }
      },
      "source": [
        "# pairwise correlation for float type values\n",
        "corr = kdd99_20p_df.loc[:,kdd99_20p_df.dtypes == 'float64'].corr()\n",
        "\n",
        "plt.figure(figsize = (15,10))\n",
        "sns.heatmap(corr, xticklabels=corr.columns, yticklabels=corr.columns, \n",
        "            cmap=sns.diverging_palette(220, 10, as_cmap=True))"
      ],
      "execution_count": 190,
      "outputs": [
        {
          "output_type": "execute_result",
          "data": {
            "text/plain": [
              "<matplotlib.axes._subplots.AxesSubplot at 0x7fb3980e3e80>"
            ]
          },
          "metadata": {
            "tags": []
          },
          "execution_count": 190
        },
        {
          "output_type": "display_data",
          "data": {
            "image/png": "[encoded data removed]",
            "text/plain": [
              "<Figure size 1080x720 with 2 Axes>"
            ]
          },
          "metadata": {
            "tags": [],
            "needs_background": "light"
          }
        }
      ]
    },
    {
      "cell_type": "markdown",
      "metadata": {
        "id": "EUB_RFe8h_1R"
      },
      "source": [
        "## 2. Engineering Data\n",
        "\n"
      ]
    },
    {
      "cell_type": "markdown",
      "metadata": {
        "id": "0vnBtuR9rtdW"
      },
      "source": [
        "### 2.1 Binary Classification of Dataset\n",
        "\n",
        "The dataset was further classified into the binary types of attack or not attack (normal). This column was appended to our DataFrame. \n"
      ]
    },
    {
      "cell_type": "code",
      "metadata": {
        "id": "T_04BKBVr4bq"
      },
      "source": [
        "kdd99_20p_df['attack_biclass'] = kdd99_20p_df.apply(\n",
        "    lambda x: 'normal' if x['attack_type'] == 'normal' else 'attack', \n",
        "    axis=1)"
      ],
      "execution_count": 106,
      "outputs": []
    },
    {
      "cell_type": "markdown",
      "metadata": {
        "id": "U9YfdD4PmBVi"
      },
      "source": [
        "### 2.1 Remove Highly Correlated Features\n",
        "\n",
        "Highly correlated features do not add information to datasets but they can confuse predictors and cause unstable decisions trees. In Fig 9 the correlations between variables are displayed as a heat map. The red intersections between `serror_rate`, `srv_serror_rate`, `dst_serror_rate`, `dst_srv_serror_rate` mean that they are largely all encoding for the same information. The column `serror_rate` was retained while `srv_serror_rate`, `dst_host_serror_rate`, and `dst_host_srv_serror_rate` were dropped.\n",
        "\n",
        "The target variable used to assess our learner will be `attack_class`. The columns `attack_type`, `successfulPredictions`, and `attack_biclass` will be dropped. \n"
      ]
    },
    {
      "cell_type": "code",
      "metadata": {
        "id": "AIn_JPQemCY5"
      },
      "source": [
        "kdd99_20p_dropped = kdd99_20p_df.drop(['srv_serror_rate', 'dst_host_serror_rate', 'dst_host_srv_serror_rate'], axis=1)\n",
        "kdd99_20p_dropped = kdd99_20p_dropped.drop(['attack_type', 'attack_biclass', 'successfulPredictions'], axis=1)"
      ],
      "execution_count": 193,
      "outputs": []
    },
    {
      "cell_type": "markdown",
      "metadata": {
        "id": "dLI3jsYitBrT"
      },
      "source": [
        "### 2.2 Transform Categorical Variables\n",
        "\n",
        "The `DecisionTreeClassifier` needs values that can be coerced into an `ndarray`. This data set has `object`s in it which are just strings representing our categorical variables. These categorical variables could be encoded as numerics using a simple `OrdinalEncoder`. This is not considered the best way of transforming categorical variables because predictors can assume relationships between the values that are not present. It's considered best to transform the unique values into a series of binary columns denoting the presence of a particular value. For purposes of simplicity all categorical columns will be dropped [4].  \n",
        "\n"
      ]
    },
    {
      "cell_type": "markdown",
      "metadata": {
        "id": "MMK4pD_16VEq"
      },
      "source": [
        "## 3. Data Sampling\n",
        "\n",
        "Three samples were created that have different distributions for the data. Models are compared across samples. Each sample contains 400 elements.\n",
        "\n",
        "- Random Sample\n",
        "- Uniform Distribution\n",
        "- Test Sample"
      ]
    },
    {
      "cell_type": "code",
      "metadata": {
        "id": "GZHjlf296UyN"
      },
      "source": [
        "n_sample = 400\n",
        "random_sample = kdd99_20p_dropped.sample(n_sample)\n",
        "uniform_sample = kdd99_20p_dropped.groupby('attack_class', group_keys=False)\\\n",
        "                                  .apply(lambda x: x.sample(int(n_sample/4), replace=True))\n",
        "test_sample = kdd99_20p_dropped.sample(n_sample)"
      ],
      "execution_count": 194,
      "outputs": []
    },
    {
      "cell_type": "markdown",
      "metadata": {
        "id": "WQdqvBM_bZbB"
      },
      "source": [
        "### Fig 10. Random Sample Attack Classes"
      ]
    },
    {
      "cell_type": "code",
      "metadata": {
        "id": "GXZd5AUobc3y",
        "outputId": "0616738a-bb4c-43ff-af77-bf0332d03ee0",
        "colab": {
          "base_uri": "https://localhost:8080/",
          "height": 102
        }
      },
      "source": [
        "random_sample.attack_class.value_counts()"
      ],
      "execution_count": 228,
      "outputs": [
        {
          "output_type": "execute_result",
          "data": {
            "text/plain": [
              "normal    207\n",
              "dos       161\n",
              "probe      30\n",
              "r2l         2\n",
              "Name: attack_class, dtype: int64"
            ]
          },
          "metadata": {
            "tags": []
          },
          "execution_count": 228
        }
      ]
    },
    {
      "cell_type": "markdown",
      "metadata": {
        "id": "DP0FuZRubxAv"
      },
      "source": [
        "### Fig 11. Uniform Sample Attack Classes"
      ]
    },
    {
      "cell_type": "code",
      "metadata": {
        "id": "RoV_9NRabxWG",
        "outputId": "f0587d02-7684-4f66-f9c6-991dda888d39",
        "colab": {
          "base_uri": "https://localhost:8080/",
          "height": 119
        }
      },
      "source": [
        "uniform_sample.attack_class.value_counts()"
      ],
      "execution_count": 229,
      "outputs": [
        {
          "output_type": "execute_result",
          "data": {
            "text/plain": [
              "probe     100\n",
              "r2l       100\n",
              "dos       100\n",
              "normal    100\n",
              "u2r       100\n",
              "Name: attack_class, dtype: int64"
            ]
          },
          "metadata": {
            "tags": []
          },
          "execution_count": 229
        }
      ]
    },
    {
      "cell_type": "markdown",
      "metadata": {
        "id": "sWaSlM8rbxoS"
      },
      "source": [
        "### Fig 12. Test Sample Attack Classes"
      ]
    },
    {
      "cell_type": "code",
      "metadata": {
        "id": "10-_4Sxwtb1k",
        "outputId": "ced91fb7-15f2-4551-9d7b-8850914e2a23",
        "colab": {
          "base_uri": "https://localhost:8080/",
          "height": 119
        }
      },
      "source": [
        "test_sample.attack_class.value_counts()"
      ],
      "execution_count": 230,
      "outputs": [
        {
          "output_type": "execute_result",
          "data": {
            "text/plain": [
              "normal    223\n",
              "dos       151\n",
              "probe      22\n",
              "r2l         3\n",
              "u2r         1\n",
              "Name: attack_class, dtype: int64"
            ]
          },
          "metadata": {
            "tags": []
          },
          "execution_count": 230
        }
      ]
    },
    {
      "cell_type": "markdown",
      "metadata": {
        "id": "bmdWKhlX2aup"
      },
      "source": [
        "## 4. Data Analysis and Results\n",
        "\n"
      ]
    },
    {
      "cell_type": "markdown",
      "metadata": {
        "id": "JxE1I_YP2xR8"
      },
      "source": [
        "### 4.1 Creating Decision trees\n",
        "\n",
        "A function was defined to take in two dataframes and compute decision tree information. The two dataframes going in to the function are a training and a testing set, respectively. The scikit-learn library was used to generate and graph decision trees [5]. A confusion matrix is also printed below the graphical representation of the decision tree. The confusion matrix allows assessment of our predictor on a class-level [6]. \n",
        "\n",
        "The decision tree is created with `critereon='entropy'` which sets it to split on information gain. This means the information gain algorith will be applied when evaluating splits. A random state is not assigned so that creation of this decision tree is repeatable. A max depth for the tree is also set to 16 [7].\n"
      ]
    },
    {
      "cell_type": "code",
      "metadata": {
        "id": "3NvdeTjL21Ug"
      },
      "source": [
        "from sklearn import metrics\n",
        "\n",
        "def make_tree(train_df, test_df, export_depth=2):\n",
        "  ''' create, plot, score, and retrun tree '''\n",
        "\n",
        "  y_train = random_sample['attack_class']\n",
        "  x_train = random_sample.select_dtypes(exclude='object')\n",
        "\n",
        "  y_test = test_df['attack_class']\n",
        "  x_test = test_df.select_dtypes(exclude='object')\n",
        "\n",
        "  dtc = DecisionTreeClassifier(criterion='entropy', random_state=0, max_depth=16)\n",
        "  dtc.fit(x_train, y_train)\n",
        "\n",
        "  print(f'The test score is {dtc.score(x_test, y_test)}')\n",
        "\n",
        "  plt.figure(figsize=(15,10))\n",
        "  plot_tree(dtc, class_names=dtc.classes_, feature_names=x_train.columns, filled=True, \n",
        "            fontsize=10, max_depth=2, precision=1, label=None, impurity=False)\n",
        "  \n",
        "  cm = metrics.plot_confusion_matrix(dtc, x_test, y_test)\n",
        "  cm.figure_.suptitle(\"Confusion Matrix\")\n",
        "\n",
        "  plt.show()\n",
        "  return export_text(dtc, feature_names=list(x_train.columns), max_depth=export_depth)"
      ],
      "execution_count": 237,
      "outputs": []
    },
    {
      "cell_type": "markdown",
      "metadata": {
        "id": "zg97xzxXl40u"
      },
      "source": [
        "### Fig 13. Decision Tree for Random Sample with Confusion Matrix"
      ]
    },
    {
      "cell_type": "code",
      "metadata": {
        "id": "7XRZJu1Tn0KD",
        "outputId": "18137905-8cf8-4f07-8036-de0e26876dc9",
        "colab": {
          "base_uri": "https://localhost:8080/",
          "height": 883
        }
      },
      "source": [
        "random_txt = make_tree(random_sample, test_sample)"
      ],
      "execution_count": 238,
      "outputs": [
        {
          "output_type": "stream",
          "text": [
            "The test score is 0.9625\n"
          ],
          "name": "stdout"
        },
        {
          "output_type": "display_data",
          "data": {
            "image/png": "[encoded data removed]",
            "text/plain": [
              "<Figure size 1080x720 with 1 Axes>"
            ]
          },
          "metadata": {
            "tags": [],
            "needs_background": "light"
          }
        },
        {
          "output_type": "display_data",
          "data": {
            "image/png": "[encoded data removed]",
            "text/plain": [
              "<Figure size 432x288 with 2 Axes>"
            ]
          },
          "metadata": {
            "tags": [],
            "needs_background": "light"
          }
        }
      ]
    },
    {
      "cell_type": "markdown",
      "metadata": {
        "id": "7wwTBFO4mLED"
      },
      "source": [
        "### Fig 14. Decision Tree for Uniform Sample with Confusion Matrix"
      ]
    },
    {
      "cell_type": "code",
      "metadata": {
        "id": "NkTEQh_SmOF-",
        "outputId": "02af8f3d-6a70-43a3-cd66-fba53ec1c45a",
        "colab": {
          "base_uri": "https://localhost:8080/",
          "height": 883
        }
      },
      "source": [
        "uni_txt = make_tree(uniform_sample, test_sample)"
      ],
      "execution_count": 239,
      "outputs": [
        {
          "output_type": "stream",
          "text": [
            "The test score is 0.9625\n"
          ],
          "name": "stdout"
        },
        {
          "output_type": "display_data",
          "data": {
            "image/png": "[encoded data removed]",
            "text/plain": [
              "<Figure size 1080x720 with 1 Axes>"
            ]
          },
          "metadata": {
            "tags": [],
            "needs_background": "light"
          }
        },
        {
          "output_type": "display_data",
          "data": {
            "image/png": "[encoded data removed]",
            "text/plain": [
              "<Figure size 432x288 with 2 Axes>"
            ]
          },
          "metadata": {
            "tags": [],
            "needs_background": "light"
          }
        }
      ]
    },
    {
      "cell_type": "markdown",
      "metadata": {
        "id": "2Gt8_1ITV3aY"
      },
      "source": [
        "## Discussion\n",
        "\n",
        "I used `difflib` to create a side-by-side comparison for the two trees, visualized in Fig 15. Note that these are not the full trees but the trees truncated to 2 nodes past root. These two trees are very much alike, identically so at this high-level. Even the scores and confusion matricies show like values. Given that the uniform distribution has greater representation of the classes U2R and R2L it stands to reason that the performance of the decision tree trained on that data set would out perform the random set. To be more specific, the random set should dispraportionately have false positives for common classes and false negatives for less common classes. \n",
        "\n",
        "One can be led to spleculate on how this has not occurred. Perhaps the size of the datasets was too small to give variation enough to properly learn. It is also possible that the skew of classes in the test set simply does not give enough of some classes for our model to fail. \n"
      ]
    },
    {
      "cell_type": "markdown",
      "metadata": {
        "id": "EobrjL4jrfr3"
      },
      "source": [
        "### Fig. 15 Side-by-side comparison of Decision Trees"
      ]
    },
    {
      "cell_type": "code",
      "metadata": {
        "id": "ElZXSSUyENZP",
        "outputId": "e08dfbab-a6c1-4746-b308-fb8622c101c8",
        "colab": {
          "base_uri": "https://localhost:8080/",
          "height": 375
        }
      },
      "source": [
        "import difflib\n",
        "from IPython.core.display import display, HTML\n",
        "d = difflib.HtmlDiff().make_table(random_txt.split('\\n'), uni_txt.split('\\n'),\n",
        "                                   fromdesc='Tree1', todesc='Tree2')\n",
        "HTML(d)"
      ],
      "execution_count": 226,
      "outputs": [
        {
          "output_type": "execute_result",
          "data": {
            "text/html": [
              "\n",
              "    <table class=\"diff\" id=\"difflib_chg_to0__top\"\n",
              "           cellspacing=\"0\" cellpadding=\"0\" rules=\"groups\" >\n",
              "        <colgroup></colgroup> <colgroup></colgroup> <colgroup></colgroup>\n",
              "        <colgroup></colgroup> <colgroup></colgroup> <colgroup></colgroup>\n",
              "        <thead><tr><th class=\"diff_next\"><br /></th><th colspan=\"2\" class=\"diff_header\">Tree1</th><th class=\"diff_next\"><br /></th><th colspan=\"2\" class=\"diff_header\">Tree2</th></tr></thead>\n",
              "        <tbody>\n",
              "            <tr><td class=\"diff_next\"><a href=\"#difflib_chg_to0__top\">t</a></td><td class=\"diff_header\" id=\"from0_1\">1</td><td nowrap=\"nowrap\">|---&nbsp;dst_bytes&nbsp;&lt;=&nbsp;2.00</td><td class=\"diff_next\"><a href=\"#difflib_chg_to0__top\">t</a></td><td class=\"diff_header\" id=\"to0_1\">1</td><td nowrap=\"nowrap\">|---&nbsp;dst_bytes&nbsp;&lt;=&nbsp;2.00</td></tr>\n",
              "            <tr><td class=\"diff_next\"></td><td class=\"diff_header\" id=\"from0_2\">2</td><td nowrap=\"nowrap\">|&nbsp;&nbsp;&nbsp;|---&nbsp;count&nbsp;&lt;=&nbsp;35.00</td><td class=\"diff_next\"></td><td class=\"diff_header\" id=\"to0_2\">2</td><td nowrap=\"nowrap\">|&nbsp;&nbsp;&nbsp;|---&nbsp;count&nbsp;&lt;=&nbsp;35.00</td></tr>\n",
              "            <tr><td class=\"diff_next\"></td><td class=\"diff_header\" id=\"from0_3\">3</td><td nowrap=\"nowrap\">|&nbsp;&nbsp;&nbsp;|&nbsp;&nbsp;&nbsp;|---&nbsp;dst_host_same_src_port_rate&nbsp;&lt;=&nbsp;0.52</td><td class=\"diff_next\"></td><td class=\"diff_header\" id=\"to0_3\">3</td><td nowrap=\"nowrap\">|&nbsp;&nbsp;&nbsp;|&nbsp;&nbsp;&nbsp;|---&nbsp;dst_host_same_src_port_rate&nbsp;&lt;=&nbsp;0.52</td></tr>\n",
              "            <tr><td class=\"diff_next\"></td><td class=\"diff_header\" id=\"from0_4\">4</td><td nowrap=\"nowrap\">|&nbsp;&nbsp;&nbsp;|&nbsp;&nbsp;&nbsp;|&nbsp;&nbsp;&nbsp;|---&nbsp;truncated&nbsp;branch&nbsp;of&nbsp;depth&nbsp;5</td><td class=\"diff_next\"></td><td class=\"diff_header\" id=\"to0_4\">4</td><td nowrap=\"nowrap\">|&nbsp;&nbsp;&nbsp;|&nbsp;&nbsp;&nbsp;|&nbsp;&nbsp;&nbsp;|---&nbsp;truncated&nbsp;branch&nbsp;of&nbsp;depth&nbsp;5</td></tr>\n",
              "            <tr><td class=\"diff_next\"></td><td class=\"diff_header\" id=\"from0_5\">5</td><td nowrap=\"nowrap\">|&nbsp;&nbsp;&nbsp;|&nbsp;&nbsp;&nbsp;|---&nbsp;dst_host_same_src_port_rate&nbsp;&gt;&nbsp;&nbsp;0.52</td><td class=\"diff_next\"></td><td class=\"diff_header\" id=\"to0_5\">5</td><td nowrap=\"nowrap\">|&nbsp;&nbsp;&nbsp;|&nbsp;&nbsp;&nbsp;|---&nbsp;dst_host_same_src_port_rate&nbsp;&gt;&nbsp;&nbsp;0.52</td></tr>\n",
              "            <tr><td class=\"diff_next\"></td><td class=\"diff_header\" id=\"from0_6\">6</td><td nowrap=\"nowrap\">|&nbsp;&nbsp;&nbsp;|&nbsp;&nbsp;&nbsp;|&nbsp;&nbsp;&nbsp;|---&nbsp;truncated&nbsp;branch&nbsp;of&nbsp;depth&nbsp;4</td><td class=\"diff_next\"></td><td class=\"diff_header\" id=\"to0_6\">6</td><td nowrap=\"nowrap\">|&nbsp;&nbsp;&nbsp;|&nbsp;&nbsp;&nbsp;|&nbsp;&nbsp;&nbsp;|---&nbsp;truncated&nbsp;branch&nbsp;of&nbsp;depth&nbsp;4</td></tr>\n",
              "            <tr><td class=\"diff_next\"></td><td class=\"diff_header\" id=\"from0_7\">7</td><td nowrap=\"nowrap\">|&nbsp;&nbsp;&nbsp;|---&nbsp;count&nbsp;&gt;&nbsp;&nbsp;35.00</td><td class=\"diff_next\"></td><td class=\"diff_header\" id=\"to0_7\">7</td><td nowrap=\"nowrap\">|&nbsp;&nbsp;&nbsp;|---&nbsp;count&nbsp;&gt;&nbsp;&nbsp;35.00</td></tr>\n",
              "            <tr><td class=\"diff_next\"></td><td class=\"diff_header\" id=\"from0_8\">8</td><td nowrap=\"nowrap\">|&nbsp;&nbsp;&nbsp;|&nbsp;&nbsp;&nbsp;|---&nbsp;dst_host_diff_srv_rate&nbsp;&lt;=&nbsp;0.21</td><td class=\"diff_next\"></td><td class=\"diff_header\" id=\"to0_8\">8</td><td nowrap=\"nowrap\">|&nbsp;&nbsp;&nbsp;|&nbsp;&nbsp;&nbsp;|---&nbsp;dst_host_diff_srv_rate&nbsp;&lt;=&nbsp;0.21</td></tr>\n",
              "            <tr><td class=\"diff_next\"></td><td class=\"diff_header\" id=\"from0_9\">9</td><td nowrap=\"nowrap\">|&nbsp;&nbsp;&nbsp;|&nbsp;&nbsp;&nbsp;|&nbsp;&nbsp;&nbsp;|---&nbsp;truncated&nbsp;branch&nbsp;of&nbsp;depth&nbsp;3</td><td class=\"diff_next\"></td><td class=\"diff_header\" id=\"to0_9\">9</td><td nowrap=\"nowrap\">|&nbsp;&nbsp;&nbsp;|&nbsp;&nbsp;&nbsp;|&nbsp;&nbsp;&nbsp;|---&nbsp;truncated&nbsp;branch&nbsp;of&nbsp;depth&nbsp;3</td></tr>\n",
              "            <tr><td class=\"diff_next\"></td><td class=\"diff_header\" id=\"from0_10\">10</td><td nowrap=\"nowrap\">|&nbsp;&nbsp;&nbsp;|&nbsp;&nbsp;&nbsp;|---&nbsp;dst_host_diff_srv_rate&nbsp;&gt;&nbsp;&nbsp;0.21</td><td class=\"diff_next\"></td><td class=\"diff_header\" id=\"to0_10\">10</td><td nowrap=\"nowrap\">|&nbsp;&nbsp;&nbsp;|&nbsp;&nbsp;&nbsp;|---&nbsp;dst_host_diff_srv_rate&nbsp;&gt;&nbsp;&nbsp;0.21</td></tr>\n",
              "            <tr><td class=\"diff_next\"></td><td class=\"diff_header\" id=\"from0_11\">11</td><td nowrap=\"nowrap\">|&nbsp;&nbsp;&nbsp;|&nbsp;&nbsp;&nbsp;|&nbsp;&nbsp;&nbsp;|---&nbsp;class:&nbsp;probe</td><td class=\"diff_next\"></td><td class=\"diff_header\" id=\"to0_11\">11</td><td nowrap=\"nowrap\">|&nbsp;&nbsp;&nbsp;|&nbsp;&nbsp;&nbsp;|&nbsp;&nbsp;&nbsp;|---&nbsp;class:&nbsp;probe</td></tr>\n",
              "            <tr><td class=\"diff_next\"></td><td class=\"diff_header\" id=\"from0_12\">12</td><td nowrap=\"nowrap\">|---&nbsp;dst_bytes&nbsp;&gt;&nbsp;&nbsp;2.00</td><td class=\"diff_next\"></td><td class=\"diff_header\" id=\"to0_12\">12</td><td nowrap=\"nowrap\">|---&nbsp;dst_bytes&nbsp;&gt;&nbsp;&nbsp;2.00</td></tr>\n",
              "            <tr><td class=\"diff_next\"></td><td class=\"diff_header\" id=\"from0_13\">13</td><td nowrap=\"nowrap\">|&nbsp;&nbsp;&nbsp;|---&nbsp;num_compromised&nbsp;&lt;=&nbsp;0.50</td><td class=\"diff_next\"></td><td class=\"diff_header\" id=\"to0_13\">13</td><td nowrap=\"nowrap\">|&nbsp;&nbsp;&nbsp;|---&nbsp;num_compromised&nbsp;&lt;=&nbsp;0.50</td></tr>\n",
              "            <tr><td class=\"diff_next\"></td><td class=\"diff_header\" id=\"from0_14\">14</td><td nowrap=\"nowrap\">|&nbsp;&nbsp;&nbsp;|&nbsp;&nbsp;&nbsp;|---&nbsp;hot&nbsp;&lt;=&nbsp;17.00</td><td class=\"diff_next\"></td><td class=\"diff_header\" id=\"to0_14\">14</td><td nowrap=\"nowrap\">|&nbsp;&nbsp;&nbsp;|&nbsp;&nbsp;&nbsp;|---&nbsp;hot&nbsp;&lt;=&nbsp;17.00</td></tr>\n",
              "            <tr><td class=\"diff_next\"></td><td class=\"diff_header\" id=\"from0_15\">15</td><td nowrap=\"nowrap\">|&nbsp;&nbsp;&nbsp;|&nbsp;&nbsp;&nbsp;|&nbsp;&nbsp;&nbsp;|---&nbsp;class:&nbsp;normal</td><td class=\"diff_next\"></td><td class=\"diff_header\" id=\"to0_15\">15</td><td nowrap=\"nowrap\">|&nbsp;&nbsp;&nbsp;|&nbsp;&nbsp;&nbsp;|&nbsp;&nbsp;&nbsp;|---&nbsp;class:&nbsp;normal</td></tr>\n",
              "            <tr><td class=\"diff_next\"></td><td class=\"diff_header\" id=\"from0_16\">16</td><td nowrap=\"nowrap\">|&nbsp;&nbsp;&nbsp;|&nbsp;&nbsp;&nbsp;|---&nbsp;hot&nbsp;&gt;&nbsp;&nbsp;17.00</td><td class=\"diff_next\"></td><td class=\"diff_header\" id=\"to0_16\">16</td><td nowrap=\"nowrap\">|&nbsp;&nbsp;&nbsp;|&nbsp;&nbsp;&nbsp;|---&nbsp;hot&nbsp;&gt;&nbsp;&nbsp;17.00</td></tr>\n",
              "            <tr><td class=\"diff_next\"></td><td class=\"diff_header\" id=\"from0_17\">17</td><td nowrap=\"nowrap\">|&nbsp;&nbsp;&nbsp;|&nbsp;&nbsp;&nbsp;|&nbsp;&nbsp;&nbsp;|---&nbsp;truncated&nbsp;branch&nbsp;of&nbsp;depth&nbsp;2</td><td class=\"diff_next\"></td><td class=\"diff_header\" id=\"to0_17\">17</td><td nowrap=\"nowrap\">|&nbsp;&nbsp;&nbsp;|&nbsp;&nbsp;&nbsp;|&nbsp;&nbsp;&nbsp;|---&nbsp;truncated&nbsp;branch&nbsp;of&nbsp;depth&nbsp;2</td></tr>\n",
              "            <tr><td class=\"diff_next\"></td><td class=\"diff_header\" id=\"from0_18\">18</td><td nowrap=\"nowrap\">|&nbsp;&nbsp;&nbsp;|---&nbsp;num_compromised&nbsp;&gt;&nbsp;&nbsp;0.50</td><td class=\"diff_next\"></td><td class=\"diff_header\" id=\"to0_18\">18</td><td nowrap=\"nowrap\">|&nbsp;&nbsp;&nbsp;|---&nbsp;num_compromised&nbsp;&gt;&nbsp;&nbsp;0.50</td></tr>\n",
              "            <tr><td class=\"diff_next\"></td><td class=\"diff_header\" id=\"from0_19\">19</td><td nowrap=\"nowrap\">|&nbsp;&nbsp;&nbsp;|&nbsp;&nbsp;&nbsp;|---&nbsp;class:&nbsp;dos</td><td class=\"diff_next\"></td><td class=\"diff_header\" id=\"to0_19\">19</td><td nowrap=\"nowrap\">|&nbsp;&nbsp;&nbsp;|&nbsp;&nbsp;&nbsp;|---&nbsp;class:&nbsp;dos</td></tr>\n",
              "            <tr><td class=\"diff_next\"></td><td class=\"diff_header\" id=\"from0_20\">20</td><td nowrap=\"nowrap\"></td><td class=\"diff_next\"></td><td class=\"diff_header\" id=\"to0_20\">20</td><td nowrap=\"nowrap\"></td></tr>\n",
              "        </tbody>\n",
              "    </table>"
            ],
            "text/plain": [
              "<IPython.core.display.HTML object>"
            ]
          },
          "metadata": {
            "tags": []
          },
          "execution_count": 226
        }
      ]
    },
    {
      "cell_type": "markdown",
      "metadata": {
        "id": "INu2VXw5jLS5"
      },
      "source": [
        "## References\n",
        "\n",
        "[1] https://www.unb.ca/cic/datasets/nsl.html\n",
        "\n",
        "[2] http://kdd.ics.uci.edu/databases/kddcup99/kddcup99.html\n",
        "\n",
        "[3] http://kdd.ics.uci.edu/databases/kddcup99/task.html\n",
        "\n",
        "[4] https://scikit-learn.org/stable/modules/classes.html?highlight=preprocessing#module-sklearn.preprocessing \n",
        "\n",
        "[5] https://scikit-learn.org/stable/modules/tree.html\n",
        "\n",
        "[6] https://scikit-learn.org/stable/modules/generated/sklearn.metrics.classification_report.html\n",
        "\n",
        "[7] https://scikit-learn.org/stable/modules/generated/sklearn.tree.DecisionTreeClassifier.html"
      ]
    }
  ]
}