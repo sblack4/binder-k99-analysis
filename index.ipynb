{
  "nbformat": 4,
  "nbformat_minor": 0,
  "metadata": {
    "colab": {
      "name": "Assignmnet1.ipynb",
      "provenance": [],
      "collapsed_sections": [],
      "toc_visible": true
    },
    "kernelspec": {
      "name": "python3",
      "display_name": "Python 3"
    }
  },
  "cells": [
    {
      "cell_type": "markdown",
      "metadata": {
        "id": "wtMBrpHkqP89"
      },
      "source": [
        "Steven Black\n",
        "\n",
        "Due 09-27-2020\n",
        "\n",
        "IS 678 Data Analytics in Cybersecurity (01.13496/02.13497) FA2020\n",
        "\n",
        "\n",
        "# Assignment I\n",
        "## Prompt\n",
        "\n",
        "Use the 10% data from KDD Cup 1999 Dataset located at http://kdd.ics.uci.edu/databases/kddcup99/kddcup99.html for this exercise.\n",
        "\n",
        "Create 2 training sets by selecting samples from this data set and evaluate them using decision trees (such as J48 in Weka). You can use random sampling or any other selective sampling technique. Compare the decision trees you find and describe any key changes between the trees. Comment on why these changes may be occuring by looking at the class distribution in your samples or the size of your training samples.\n",
        "\n",
        "You may use alternate analysis techniques such as clustering and associations to supplement your analysis (although this is not required).\n",
        "\n",
        "Submit a word document of your assignment, please make sure to include the decision tree snapshots and other relevant snapshots in your assignment. You do not need to include snapshots of every intermediate step or analysis.\n",
        "\n",
        "You can use weka or any other alternative data mining tool for this assignment.\n"
      ]
    },
    {
      "cell_type": "markdown",
      "metadata": {
        "id": "wNqTOLf_0RzL"
      },
      "source": [
        "## Prerequisites\n",
        "Downloading the data and installing packages\n"
      ]
    },
    {
      "cell_type": "code",
      "metadata": {
        "id": "XRhvYW_mpxyu"
      },
      "source": [
        "!pip install requests sklearn pandas numpy matplotlib > /dev/nul"
      ],
      "execution_count": 1,
      "outputs": []
    },
    {
      "cell_type": "code",
      "metadata": {
        "id": "XHSi7y1EsZQ9"
      },
      "source": [
        "%matplotlib inline\n",
        "\n",
        "import matplotlib.pyplot as plt\n",
        "import numpy as np\n",
        "import os\n",
        "import pandas as pd\n",
        "import requests\n",
        "\n",
        "from sklearn.model_selection import train_test_split\n",
        "from sklearn.preprocessing import LabelEncoder\n",
        "from sklearn.tree import DecisionTreeClassifier, export_text, plot_tree\n",
        "\n",
        "\n",
        "kdd99_webpage_url = 'http://kdd.ics.uci.edu/databases/kddcup99/kddcup99.html'\n",
        "kdd99_10percent_data_url = 'http://kdd.ics.uci.edu/databases/kddcup99/kddcup.data_10_percent.gz'\n",
        "kdd99_labels_url = 'http://kdd.ics.uci.edu/databases/kddcup99/kddcup.names'\n",
        "training_attack_types ='http://kdd.ics.uci.edu/databases/kddcup99/training_attack_types'"
      ],
      "execution_count": 68,
      "outputs": []
    },
    {
      "cell_type": "code",
      "metadata": {
        "id": "enzfUVtXtejZ"
      },
      "source": [
        "def dl_file(url):\n",
        "  filename = os.path.basename(url)\n",
        "  with open(filename, 'wb') as fh:\n",
        "    r = requests.get(url)\n",
        "    fh.write(r.content)\n",
        "  return filename"
      ],
      "execution_count": 39,
      "outputs": []
    },
    {
      "cell_type": "code",
      "metadata": {
        "id": "ufYez3xJvFdz",
        "outputId": "00fa3c80-2e5c-408f-8609-32b217b06c1b",
        "colab": {
          "base_uri": "https://localhost:8080/",
          "height": 34
        }
      },
      "source": [
        "files_to_dl = [kdd99_10percent_data_url, kdd99_labels_url, training_attack_types]\n",
        "filenames = list(map(dl_file, files_to_dl))\n",
        "print(f'Downloaded: {\", \".join(filenames)}')"
      ],
      "execution_count": 40,
      "outputs": [
        {
          "output_type": "stream",
          "text": [
            "Downloaded: kddcup.data_10_percent.gz, kddcup.names, training_attack_types\n"
          ],
          "name": "stdout"
        }
      ]
    },
    {
      "cell_type": "code",
      "metadata": {
        "id": "wNsrT9-_xaGd",
        "outputId": "c35bab45-7f5b-43ed-bc13-7a087ab41966",
        "colab": {
          "base_uri": "https://localhost:8080/",
          "height": 122
        }
      },
      "source": [
        "!head -n 5 'kddcup.names'"
      ],
      "execution_count": 41,
      "outputs": [
        {
          "output_type": "stream",
          "text": [
            "back,buffer_overflow,ftp_write,guess_passwd,imap,ipsweep,land,loadmodule,multihop,neptune,nmap,normal,perl,phf,pod,portsweep,rootkit,satan,smurf,spy,teardrop,warezclient,warezmaster.\n",
            "duration: continuous.\n",
            "protocol_type: symbolic.\n",
            "service: symbolic.\n",
            "flag: symbolic.\n"
          ],
          "name": "stdout"
        }
      ]
    },
    {
      "cell_type": "code",
      "metadata": {
        "id": "VRnm98Ocvk_i",
        "outputId": "34a4d371-a285-4cd8-f0f2-911c848d8191",
        "colab": {
          "base_uri": "https://localhost:8080/",
          "height": 102
        }
      },
      "source": [
        "!head -n 5 'training_attack_types'"
      ],
      "execution_count": 60,
      "outputs": [
        {
          "output_type": "stream",
          "text": [
            "back dos\n",
            "buffer_overflow u2r\n",
            "ftp_write r2l\n",
            "guess_passwd r2l\n",
            "imap r2l\n"
          ],
          "name": "stdout"
        }
      ]
    },
    {
      "cell_type": "code",
      "metadata": {
        "id": "xQygKj6Kx-Q_",
        "outputId": "1248962b-e301-47da-a0ce-89f7dfaea2b9",
        "colab": {
          "base_uri": "https://localhost:8080/",
          "height": 54
        }
      },
      "source": [
        "# lets get the labels\n",
        "with open('kddcup.names', 'r') as fh:\n",
        "  fh.readline() # get rid of the first line\n",
        "  lines = fh.readlines()\n",
        "\n",
        "\n",
        "labels = []\n",
        "for line in lines:\n",
        "  lbl = line.split(':')[0]\n",
        "  labels.append(lbl)\n",
        "\n",
        "# the last one is the target, attack_type\n",
        "labels.append('attack_type')\n",
        "print(labels)"
      ],
      "execution_count": 42,
      "outputs": [
        {
          "output_type": "stream",
          "text": [
            "['duration', 'protocol_type', 'service', 'flag', 'src_bytes', 'dst_bytes', 'land', 'wrong_fragment', 'urgent', 'hot', 'num_failed_logins', 'logged_in', 'num_compromised', 'root_shell', 'su_attempted', 'num_root', 'num_file_creations', 'num_shells', 'num_access_files', 'num_outbound_cmds', 'is_host_login', 'is_guest_login', 'count', 'srv_count', 'serror_rate', 'srv_serror_rate', 'rerror_rate', 'srv_rerror_rate', 'same_srv_rate', 'diff_srv_rate', 'srv_diff_host_rate', 'dst_host_count', 'dst_host_srv_count', 'dst_host_same_srv_rate', 'dst_host_diff_srv_rate', 'dst_host_same_src_port_rate', 'dst_host_srv_diff_host_rate', 'dst_host_serror_rate', 'dst_host_srv_serror_rate', 'dst_host_rerror_rate', 'dst_host_srv_rerror_rate', 'attack_type']\n"
          ],
          "name": "stdout"
        }
      ]
    },
    {
      "cell_type": "code",
      "metadata": {
        "id": "V2xvg_Nlv_C_",
        "outputId": "396778ee-e15e-48ce-9351-0be6b24a201c",
        "colab": {
          "base_uri": "https://localhost:8080/",
          "height": 54
        }
      },
      "source": [
        "# and the targets\n",
        "with open('training_attack_types', 'r') as fh:\n",
        "  lines = fh.readlines()\n",
        "\n",
        "\n",
        "targets = []\n",
        "for line in lines:\n",
        "  tg = line.split(' ')[0]\n",
        "  targets.append(tg)\n",
        "\n",
        "print(targets)"
      ],
      "execution_count": 62,
      "outputs": [
        {
          "output_type": "stream",
          "text": [
            "['back', 'buffer_overflow', 'ftp_write', 'guess_passwd', 'imap', 'ipsweep', 'land', 'loadmodule', 'multihop', 'neptune', 'nmap', 'perl', 'phf', 'pod', 'portsweep', 'rootkit', 'satan', 'smurf', 'spy', 'teardrop', 'warezclient', 'warezmaster', '\\n']\n"
          ],
          "name": "stdout"
        }
      ]
    },
    {
      "cell_type": "code",
      "metadata": {
        "id": "lxfN4HlhwCfy",
        "outputId": "7f0a794c-e3e9-4b05-f510-8734b11161a3",
        "colab": {
          "base_uri": "https://localhost:8080/",
          "height": 224
        }
      },
      "source": [
        "# get data\n",
        "kdd99_10p_df = pd.read_csv(filenames[0], names=labels, index_col=None)\n",
        "kdd99_10p_df.head()"
      ],
      "execution_count": 43,
      "outputs": [
        {
          "output_type": "execute_result",
          "data": {
            "text/html": [
              "<div>\n",
              "<style scoped>\n",
              "    .dataframe tbody tr th:only-of-type {\n",
              "        vertical-align: middle;\n",
              "    }\n",
              "\n",
              "    .dataframe tbody tr th {\n",
              "        vertical-align: top;\n",
              "    }\n",
              "\n",
              "    .dataframe thead th {\n",
              "        text-align: right;\n",
              "    }\n",
              "</style>\n",
              "<table border=\"1\" class=\"dataframe\">\n",
              "  <thead>\n",
              "    <tr style=\"text-align: right;\">\n",
              "      <th></th>\n",
              "      <th>duration</th>\n",
              "      <th>protocol_type</th>\n",
              "      <th>service</th>\n",
              "      <th>flag</th>\n",
              "      <th>src_bytes</th>\n",
              "      <th>dst_bytes</th>\n",
              "      <th>land</th>\n",
              "      <th>wrong_fragment</th>\n",
              "      <th>urgent</th>\n",
              "      <th>hot</th>\n",
              "      <th>num_failed_logins</th>\n",
              "      <th>logged_in</th>\n",
              "      <th>num_compromised</th>\n",
              "      <th>root_shell</th>\n",
              "      <th>su_attempted</th>\n",
              "      <th>num_root</th>\n",
              "      <th>num_file_creations</th>\n",
              "      <th>num_shells</th>\n",
              "      <th>num_access_files</th>\n",
              "      <th>num_outbound_cmds</th>\n",
              "      <th>is_host_login</th>\n",
              "      <th>is_guest_login</th>\n",
              "      <th>count</th>\n",
              "      <th>srv_count</th>\n",
              "      <th>serror_rate</th>\n",
              "      <th>srv_serror_rate</th>\n",
              "      <th>rerror_rate</th>\n",
              "      <th>srv_rerror_rate</th>\n",
              "      <th>same_srv_rate</th>\n",
              "      <th>diff_srv_rate</th>\n",
              "      <th>srv_diff_host_rate</th>\n",
              "      <th>dst_host_count</th>\n",
              "      <th>dst_host_srv_count</th>\n",
              "      <th>dst_host_same_srv_rate</th>\n",
              "      <th>dst_host_diff_srv_rate</th>\n",
              "      <th>dst_host_same_src_port_rate</th>\n",
              "      <th>dst_host_srv_diff_host_rate</th>\n",
              "      <th>dst_host_serror_rate</th>\n",
              "      <th>dst_host_srv_serror_rate</th>\n",
              "      <th>dst_host_rerror_rate</th>\n",
              "      <th>dst_host_srv_rerror_rate</th>\n",
              "      <th>attack_type</th>\n",
              "    </tr>\n",
              "  </thead>\n",
              "  <tbody>\n",
              "    <tr>\n",
              "      <th>0</th>\n",
              "      <td>0</td>\n",
              "      <td>tcp</td>\n",
              "      <td>http</td>\n",
              "      <td>SF</td>\n",
              "      <td>181</td>\n",
              "      <td>5450</td>\n",
              "      <td>0</td>\n",
              "      <td>0</td>\n",
              "      <td>0</td>\n",
              "      <td>0</td>\n",
              "      <td>0</td>\n",
              "      <td>1</td>\n",
              "      <td>0</td>\n",
              "      <td>0</td>\n",
              "      <td>0</td>\n",
              "      <td>0</td>\n",
              "      <td>0</td>\n",
              "      <td>0</td>\n",
              "      <td>0</td>\n",
              "      <td>0</td>\n",
              "      <td>0</td>\n",
              "      <td>0</td>\n",
              "      <td>8</td>\n",
              "      <td>8</td>\n",
              "      <td>0.0</td>\n",
              "      <td>0.0</td>\n",
              "      <td>0.0</td>\n",
              "      <td>0.0</td>\n",
              "      <td>1.0</td>\n",
              "      <td>0.0</td>\n",
              "      <td>0.0</td>\n",
              "      <td>9</td>\n",
              "      <td>9</td>\n",
              "      <td>1.0</td>\n",
              "      <td>0.0</td>\n",
              "      <td>0.11</td>\n",
              "      <td>0.0</td>\n",
              "      <td>0.0</td>\n",
              "      <td>0.0</td>\n",
              "      <td>0.0</td>\n",
              "      <td>0.0</td>\n",
              "      <td>normal.</td>\n",
              "    </tr>\n",
              "    <tr>\n",
              "      <th>1</th>\n",
              "      <td>0</td>\n",
              "      <td>tcp</td>\n",
              "      <td>http</td>\n",
              "      <td>SF</td>\n",
              "      <td>239</td>\n",
              "      <td>486</td>\n",
              "      <td>0</td>\n",
              "      <td>0</td>\n",
              "      <td>0</td>\n",
              "      <td>0</td>\n",
              "      <td>0</td>\n",
              "      <td>1</td>\n",
              "      <td>0</td>\n",
              "      <td>0</td>\n",
              "      <td>0</td>\n",
              "      <td>0</td>\n",
              "      <td>0</td>\n",
              "      <td>0</td>\n",
              "      <td>0</td>\n",
              "      <td>0</td>\n",
              "      <td>0</td>\n",
              "      <td>0</td>\n",
              "      <td>8</td>\n",
              "      <td>8</td>\n",
              "      <td>0.0</td>\n",
              "      <td>0.0</td>\n",
              "      <td>0.0</td>\n",
              "      <td>0.0</td>\n",
              "      <td>1.0</td>\n",
              "      <td>0.0</td>\n",
              "      <td>0.0</td>\n",
              "      <td>19</td>\n",
              "      <td>19</td>\n",
              "      <td>1.0</td>\n",
              "      <td>0.0</td>\n",
              "      <td>0.05</td>\n",
              "      <td>0.0</td>\n",
              "      <td>0.0</td>\n",
              "      <td>0.0</td>\n",
              "      <td>0.0</td>\n",
              "      <td>0.0</td>\n",
              "      <td>normal.</td>\n",
              "    </tr>\n",
              "    <tr>\n",
              "      <th>2</th>\n",
              "      <td>0</td>\n",
              "      <td>tcp</td>\n",
              "      <td>http</td>\n",
              "      <td>SF</td>\n",
              "      <td>235</td>\n",
              "      <td>1337</td>\n",
              "      <td>0</td>\n",
              "      <td>0</td>\n",
              "      <td>0</td>\n",
              "      <td>0</td>\n",
              "      <td>0</td>\n",
              "      <td>1</td>\n",
              "      <td>0</td>\n",
              "      <td>0</td>\n",
              "      <td>0</td>\n",
              "      <td>0</td>\n",
              "      <td>0</td>\n",
              "      <td>0</td>\n",
              "      <td>0</td>\n",
              "      <td>0</td>\n",
              "      <td>0</td>\n",
              "      <td>0</td>\n",
              "      <td>8</td>\n",
              "      <td>8</td>\n",
              "      <td>0.0</td>\n",
              "      <td>0.0</td>\n",
              "      <td>0.0</td>\n",
              "      <td>0.0</td>\n",
              "      <td>1.0</td>\n",
              "      <td>0.0</td>\n",
              "      <td>0.0</td>\n",
              "      <td>29</td>\n",
              "      <td>29</td>\n",
              "      <td>1.0</td>\n",
              "      <td>0.0</td>\n",
              "      <td>0.03</td>\n",
              "      <td>0.0</td>\n",
              "      <td>0.0</td>\n",
              "      <td>0.0</td>\n",
              "      <td>0.0</td>\n",
              "      <td>0.0</td>\n",
              "      <td>normal.</td>\n",
              "    </tr>\n",
              "    <tr>\n",
              "      <th>3</th>\n",
              "      <td>0</td>\n",
              "      <td>tcp</td>\n",
              "      <td>http</td>\n",
              "      <td>SF</td>\n",
              "      <td>219</td>\n",
              "      <td>1337</td>\n",
              "      <td>0</td>\n",
              "      <td>0</td>\n",
              "      <td>0</td>\n",
              "      <td>0</td>\n",
              "      <td>0</td>\n",
              "      <td>1</td>\n",
              "      <td>0</td>\n",
              "      <td>0</td>\n",
              "      <td>0</td>\n",
              "      <td>0</td>\n",
              "      <td>0</td>\n",
              "      <td>0</td>\n",
              "      <td>0</td>\n",
              "      <td>0</td>\n",
              "      <td>0</td>\n",
              "      <td>0</td>\n",
              "      <td>6</td>\n",
              "      <td>6</td>\n",
              "      <td>0.0</td>\n",
              "      <td>0.0</td>\n",
              "      <td>0.0</td>\n",
              "      <td>0.0</td>\n",
              "      <td>1.0</td>\n",
              "      <td>0.0</td>\n",
              "      <td>0.0</td>\n",
              "      <td>39</td>\n",
              "      <td>39</td>\n",
              "      <td>1.0</td>\n",
              "      <td>0.0</td>\n",
              "      <td>0.03</td>\n",
              "      <td>0.0</td>\n",
              "      <td>0.0</td>\n",
              "      <td>0.0</td>\n",
              "      <td>0.0</td>\n",
              "      <td>0.0</td>\n",
              "      <td>normal.</td>\n",
              "    </tr>\n",
              "    <tr>\n",
              "      <th>4</th>\n",
              "      <td>0</td>\n",
              "      <td>tcp</td>\n",
              "      <td>http</td>\n",
              "      <td>SF</td>\n",
              "      <td>217</td>\n",
              "      <td>2032</td>\n",
              "      <td>0</td>\n",
              "      <td>0</td>\n",
              "      <td>0</td>\n",
              "      <td>0</td>\n",
              "      <td>0</td>\n",
              "      <td>1</td>\n",
              "      <td>0</td>\n",
              "      <td>0</td>\n",
              "      <td>0</td>\n",
              "      <td>0</td>\n",
              "      <td>0</td>\n",
              "      <td>0</td>\n",
              "      <td>0</td>\n",
              "      <td>0</td>\n",
              "      <td>0</td>\n",
              "      <td>0</td>\n",
              "      <td>6</td>\n",
              "      <td>6</td>\n",
              "      <td>0.0</td>\n",
              "      <td>0.0</td>\n",
              "      <td>0.0</td>\n",
              "      <td>0.0</td>\n",
              "      <td>1.0</td>\n",
              "      <td>0.0</td>\n",
              "      <td>0.0</td>\n",
              "      <td>49</td>\n",
              "      <td>49</td>\n",
              "      <td>1.0</td>\n",
              "      <td>0.0</td>\n",
              "      <td>0.02</td>\n",
              "      <td>0.0</td>\n",
              "      <td>0.0</td>\n",
              "      <td>0.0</td>\n",
              "      <td>0.0</td>\n",
              "      <td>0.0</td>\n",
              "      <td>normal.</td>\n",
              "    </tr>\n",
              "  </tbody>\n",
              "</table>\n",
              "</div>"
            ],
            "text/plain": [
              "   duration protocol_type  ... dst_host_srv_rerror_rate attack_type\n",
              "0         0           tcp  ...                      0.0     normal.\n",
              "1         0           tcp  ...                      0.0     normal.\n",
              "2         0           tcp  ...                      0.0     normal.\n",
              "3         0           tcp  ...                      0.0     normal.\n",
              "4         0           tcp  ...                      0.0     normal.\n",
              "\n",
              "[5 rows x 42 columns]"
            ]
          },
          "metadata": {
            "tags": []
          },
          "execution_count": 43
        }
      ]
    },
    {
      "cell_type": "markdown",
      "metadata": {
        "id": "UcvvyjM40eOy"
      },
      "source": [
        "## Investigating Data\n"
      ]
    },
    {
      "cell_type": "code",
      "metadata": {
        "id": "iz7piJO5xT5L",
        "outputId": "10c750be-d55e-4f3f-bddd-08192c9d1aa4",
        "colab": {
          "base_uri": "https://localhost:8080/",
          "height": 317
        }
      },
      "source": [
        "kdd99_10p_df.describe()"
      ],
      "execution_count": 8,
      "outputs": [
        {
          "output_type": "execute_result",
          "data": {
            "text/html": [
              "<div>\n",
              "<style scoped>\n",
              "    .dataframe tbody tr th:only-of-type {\n",
              "        vertical-align: middle;\n",
              "    }\n",
              "\n",
              "    .dataframe tbody tr th {\n",
              "        vertical-align: top;\n",
              "    }\n",
              "\n",
              "    .dataframe thead th {\n",
              "        text-align: right;\n",
              "    }\n",
              "</style>\n",
              "<table border=\"1\" class=\"dataframe\">\n",
              "  <thead>\n",
              "    <tr style=\"text-align: right;\">\n",
              "      <th></th>\n",
              "      <th>duration</th>\n",
              "      <th>src_bytes</th>\n",
              "      <th>dst_bytes</th>\n",
              "      <th>land</th>\n",
              "      <th>wrong_fragment</th>\n",
              "      <th>urgent</th>\n",
              "      <th>hot</th>\n",
              "      <th>num_failed_logins</th>\n",
              "      <th>logged_in</th>\n",
              "      <th>num_compromised</th>\n",
              "      <th>root_shell</th>\n",
              "      <th>su_attempted</th>\n",
              "      <th>num_root</th>\n",
              "      <th>num_file_creations</th>\n",
              "      <th>num_shells</th>\n",
              "      <th>num_access_files</th>\n",
              "      <th>num_outbound_cmds</th>\n",
              "      <th>is_host_login</th>\n",
              "      <th>is_guest_login</th>\n",
              "      <th>count</th>\n",
              "      <th>srv_count</th>\n",
              "      <th>serror_rate</th>\n",
              "      <th>srv_serror_rate</th>\n",
              "      <th>rerror_rate</th>\n",
              "      <th>srv_rerror_rate</th>\n",
              "      <th>same_srv_rate</th>\n",
              "      <th>diff_srv_rate</th>\n",
              "      <th>srv_diff_host_rate</th>\n",
              "      <th>dst_host_count</th>\n",
              "      <th>dst_host_srv_count</th>\n",
              "      <th>dst_host_same_srv_rate</th>\n",
              "      <th>dst_host_diff_srv_rate</th>\n",
              "      <th>dst_host_same_src_port_rate</th>\n",
              "      <th>dst_host_srv_diff_host_rate</th>\n",
              "      <th>dst_host_serror_rate</th>\n",
              "      <th>dst_host_srv_serror_rate</th>\n",
              "      <th>dst_host_rerror_rate</th>\n",
              "      <th>dst_host_srv_rerror_rate</th>\n",
              "    </tr>\n",
              "  </thead>\n",
              "  <tbody>\n",
              "    <tr>\n",
              "      <th>count</th>\n",
              "      <td>494021.000000</td>\n",
              "      <td>4.940210e+05</td>\n",
              "      <td>4.940210e+05</td>\n",
              "      <td>494021.000000</td>\n",
              "      <td>494021.000000</td>\n",
              "      <td>494021.000000</td>\n",
              "      <td>494021.000000</td>\n",
              "      <td>494021.000000</td>\n",
              "      <td>494021.000000</td>\n",
              "      <td>494021.000000</td>\n",
              "      <td>494021.000000</td>\n",
              "      <td>494021.000000</td>\n",
              "      <td>494021.000000</td>\n",
              "      <td>494021.000000</td>\n",
              "      <td>494021.000000</td>\n",
              "      <td>494021.000000</td>\n",
              "      <td>494021.0</td>\n",
              "      <td>494021.0</td>\n",
              "      <td>494021.000000</td>\n",
              "      <td>494021.000000</td>\n",
              "      <td>494021.000000</td>\n",
              "      <td>494021.000000</td>\n",
              "      <td>494021.000000</td>\n",
              "      <td>494021.000000</td>\n",
              "      <td>494021.000000</td>\n",
              "      <td>494021.000000</td>\n",
              "      <td>494021.000000</td>\n",
              "      <td>494021.000000</td>\n",
              "      <td>494021.000000</td>\n",
              "      <td>494021.000000</td>\n",
              "      <td>494021.000000</td>\n",
              "      <td>494021.000000</td>\n",
              "      <td>494021.000000</td>\n",
              "      <td>494021.000000</td>\n",
              "      <td>494021.000000</td>\n",
              "      <td>494021.000000</td>\n",
              "      <td>494021.000000</td>\n",
              "      <td>494021.000000</td>\n",
              "    </tr>\n",
              "    <tr>\n",
              "      <th>mean</th>\n",
              "      <td>47.979302</td>\n",
              "      <td>3.025610e+03</td>\n",
              "      <td>8.685324e+02</td>\n",
              "      <td>0.000045</td>\n",
              "      <td>0.006433</td>\n",
              "      <td>0.000014</td>\n",
              "      <td>0.034519</td>\n",
              "      <td>0.000152</td>\n",
              "      <td>0.148247</td>\n",
              "      <td>0.010212</td>\n",
              "      <td>0.000111</td>\n",
              "      <td>0.000036</td>\n",
              "      <td>0.011352</td>\n",
              "      <td>0.001083</td>\n",
              "      <td>0.000109</td>\n",
              "      <td>0.001008</td>\n",
              "      <td>0.0</td>\n",
              "      <td>0.0</td>\n",
              "      <td>0.001387</td>\n",
              "      <td>332.285690</td>\n",
              "      <td>292.906557</td>\n",
              "      <td>0.176687</td>\n",
              "      <td>0.176609</td>\n",
              "      <td>0.057433</td>\n",
              "      <td>0.057719</td>\n",
              "      <td>0.791547</td>\n",
              "      <td>0.020982</td>\n",
              "      <td>0.028997</td>\n",
              "      <td>232.470778</td>\n",
              "      <td>188.665670</td>\n",
              "      <td>0.753780</td>\n",
              "      <td>0.030906</td>\n",
              "      <td>0.601935</td>\n",
              "      <td>0.006684</td>\n",
              "      <td>0.176754</td>\n",
              "      <td>0.176443</td>\n",
              "      <td>0.058118</td>\n",
              "      <td>0.057412</td>\n",
              "    </tr>\n",
              "    <tr>\n",
              "      <th>std</th>\n",
              "      <td>707.746472</td>\n",
              "      <td>9.882181e+05</td>\n",
              "      <td>3.304000e+04</td>\n",
              "      <td>0.006673</td>\n",
              "      <td>0.134805</td>\n",
              "      <td>0.005510</td>\n",
              "      <td>0.782103</td>\n",
              "      <td>0.015520</td>\n",
              "      <td>0.355345</td>\n",
              "      <td>1.798326</td>\n",
              "      <td>0.010551</td>\n",
              "      <td>0.007793</td>\n",
              "      <td>2.012718</td>\n",
              "      <td>0.096416</td>\n",
              "      <td>0.011020</td>\n",
              "      <td>0.036482</td>\n",
              "      <td>0.0</td>\n",
              "      <td>0.0</td>\n",
              "      <td>0.037211</td>\n",
              "      <td>213.147412</td>\n",
              "      <td>246.322817</td>\n",
              "      <td>0.380717</td>\n",
              "      <td>0.381017</td>\n",
              "      <td>0.231623</td>\n",
              "      <td>0.232147</td>\n",
              "      <td>0.388189</td>\n",
              "      <td>0.082205</td>\n",
              "      <td>0.142397</td>\n",
              "      <td>64.745380</td>\n",
              "      <td>106.040437</td>\n",
              "      <td>0.410781</td>\n",
              "      <td>0.109259</td>\n",
              "      <td>0.481309</td>\n",
              "      <td>0.042133</td>\n",
              "      <td>0.380593</td>\n",
              "      <td>0.380919</td>\n",
              "      <td>0.230590</td>\n",
              "      <td>0.230140</td>\n",
              "    </tr>\n",
              "    <tr>\n",
              "      <th>min</th>\n",
              "      <td>0.000000</td>\n",
              "      <td>0.000000e+00</td>\n",
              "      <td>0.000000e+00</td>\n",
              "      <td>0.000000</td>\n",
              "      <td>0.000000</td>\n",
              "      <td>0.000000</td>\n",
              "      <td>0.000000</td>\n",
              "      <td>0.000000</td>\n",
              "      <td>0.000000</td>\n",
              "      <td>0.000000</td>\n",
              "      <td>0.000000</td>\n",
              "      <td>0.000000</td>\n",
              "      <td>0.000000</td>\n",
              "      <td>0.000000</td>\n",
              "      <td>0.000000</td>\n",
              "      <td>0.000000</td>\n",
              "      <td>0.0</td>\n",
              "      <td>0.0</td>\n",
              "      <td>0.000000</td>\n",
              "      <td>0.000000</td>\n",
              "      <td>0.000000</td>\n",
              "      <td>0.000000</td>\n",
              "      <td>0.000000</td>\n",
              "      <td>0.000000</td>\n",
              "      <td>0.000000</td>\n",
              "      <td>0.000000</td>\n",
              "      <td>0.000000</td>\n",
              "      <td>0.000000</td>\n",
              "      <td>0.000000</td>\n",
              "      <td>0.000000</td>\n",
              "      <td>0.000000</td>\n",
              "      <td>0.000000</td>\n",
              "      <td>0.000000</td>\n",
              "      <td>0.000000</td>\n",
              "      <td>0.000000</td>\n",
              "      <td>0.000000</td>\n",
              "      <td>0.000000</td>\n",
              "      <td>0.000000</td>\n",
              "    </tr>\n",
              "    <tr>\n",
              "      <th>25%</th>\n",
              "      <td>0.000000</td>\n",
              "      <td>4.500000e+01</td>\n",
              "      <td>0.000000e+00</td>\n",
              "      <td>0.000000</td>\n",
              "      <td>0.000000</td>\n",
              "      <td>0.000000</td>\n",
              "      <td>0.000000</td>\n",
              "      <td>0.000000</td>\n",
              "      <td>0.000000</td>\n",
              "      <td>0.000000</td>\n",
              "      <td>0.000000</td>\n",
              "      <td>0.000000</td>\n",
              "      <td>0.000000</td>\n",
              "      <td>0.000000</td>\n",
              "      <td>0.000000</td>\n",
              "      <td>0.000000</td>\n",
              "      <td>0.0</td>\n",
              "      <td>0.0</td>\n",
              "      <td>0.000000</td>\n",
              "      <td>117.000000</td>\n",
              "      <td>10.000000</td>\n",
              "      <td>0.000000</td>\n",
              "      <td>0.000000</td>\n",
              "      <td>0.000000</td>\n",
              "      <td>0.000000</td>\n",
              "      <td>1.000000</td>\n",
              "      <td>0.000000</td>\n",
              "      <td>0.000000</td>\n",
              "      <td>255.000000</td>\n",
              "      <td>46.000000</td>\n",
              "      <td>0.410000</td>\n",
              "      <td>0.000000</td>\n",
              "      <td>0.000000</td>\n",
              "      <td>0.000000</td>\n",
              "      <td>0.000000</td>\n",
              "      <td>0.000000</td>\n",
              "      <td>0.000000</td>\n",
              "      <td>0.000000</td>\n",
              "    </tr>\n",
              "    <tr>\n",
              "      <th>50%</th>\n",
              "      <td>0.000000</td>\n",
              "      <td>5.200000e+02</td>\n",
              "      <td>0.000000e+00</td>\n",
              "      <td>0.000000</td>\n",
              "      <td>0.000000</td>\n",
              "      <td>0.000000</td>\n",
              "      <td>0.000000</td>\n",
              "      <td>0.000000</td>\n",
              "      <td>0.000000</td>\n",
              "      <td>0.000000</td>\n",
              "      <td>0.000000</td>\n",
              "      <td>0.000000</td>\n",
              "      <td>0.000000</td>\n",
              "      <td>0.000000</td>\n",
              "      <td>0.000000</td>\n",
              "      <td>0.000000</td>\n",
              "      <td>0.0</td>\n",
              "      <td>0.0</td>\n",
              "      <td>0.000000</td>\n",
              "      <td>510.000000</td>\n",
              "      <td>510.000000</td>\n",
              "      <td>0.000000</td>\n",
              "      <td>0.000000</td>\n",
              "      <td>0.000000</td>\n",
              "      <td>0.000000</td>\n",
              "      <td>1.000000</td>\n",
              "      <td>0.000000</td>\n",
              "      <td>0.000000</td>\n",
              "      <td>255.000000</td>\n",
              "      <td>255.000000</td>\n",
              "      <td>1.000000</td>\n",
              "      <td>0.000000</td>\n",
              "      <td>1.000000</td>\n",
              "      <td>0.000000</td>\n",
              "      <td>0.000000</td>\n",
              "      <td>0.000000</td>\n",
              "      <td>0.000000</td>\n",
              "      <td>0.000000</td>\n",
              "    </tr>\n",
              "    <tr>\n",
              "      <th>75%</th>\n",
              "      <td>0.000000</td>\n",
              "      <td>1.032000e+03</td>\n",
              "      <td>0.000000e+00</td>\n",
              "      <td>0.000000</td>\n",
              "      <td>0.000000</td>\n",
              "      <td>0.000000</td>\n",
              "      <td>0.000000</td>\n",
              "      <td>0.000000</td>\n",
              "      <td>0.000000</td>\n",
              "      <td>0.000000</td>\n",
              "      <td>0.000000</td>\n",
              "      <td>0.000000</td>\n",
              "      <td>0.000000</td>\n",
              "      <td>0.000000</td>\n",
              "      <td>0.000000</td>\n",
              "      <td>0.000000</td>\n",
              "      <td>0.0</td>\n",
              "      <td>0.0</td>\n",
              "      <td>0.000000</td>\n",
              "      <td>511.000000</td>\n",
              "      <td>511.000000</td>\n",
              "      <td>0.000000</td>\n",
              "      <td>0.000000</td>\n",
              "      <td>0.000000</td>\n",
              "      <td>0.000000</td>\n",
              "      <td>1.000000</td>\n",
              "      <td>0.000000</td>\n",
              "      <td>0.000000</td>\n",
              "      <td>255.000000</td>\n",
              "      <td>255.000000</td>\n",
              "      <td>1.000000</td>\n",
              "      <td>0.040000</td>\n",
              "      <td>1.000000</td>\n",
              "      <td>0.000000</td>\n",
              "      <td>0.000000</td>\n",
              "      <td>0.000000</td>\n",
              "      <td>0.000000</td>\n",
              "      <td>0.000000</td>\n",
              "    </tr>\n",
              "    <tr>\n",
              "      <th>max</th>\n",
              "      <td>58329.000000</td>\n",
              "      <td>6.933756e+08</td>\n",
              "      <td>5.155468e+06</td>\n",
              "      <td>1.000000</td>\n",
              "      <td>3.000000</td>\n",
              "      <td>3.000000</td>\n",
              "      <td>30.000000</td>\n",
              "      <td>5.000000</td>\n",
              "      <td>1.000000</td>\n",
              "      <td>884.000000</td>\n",
              "      <td>1.000000</td>\n",
              "      <td>2.000000</td>\n",
              "      <td>993.000000</td>\n",
              "      <td>28.000000</td>\n",
              "      <td>2.000000</td>\n",
              "      <td>8.000000</td>\n",
              "      <td>0.0</td>\n",
              "      <td>0.0</td>\n",
              "      <td>1.000000</td>\n",
              "      <td>511.000000</td>\n",
              "      <td>511.000000</td>\n",
              "      <td>1.000000</td>\n",
              "      <td>1.000000</td>\n",
              "      <td>1.000000</td>\n",
              "      <td>1.000000</td>\n",
              "      <td>1.000000</td>\n",
              "      <td>1.000000</td>\n",
              "      <td>1.000000</td>\n",
              "      <td>255.000000</td>\n",
              "      <td>255.000000</td>\n",
              "      <td>1.000000</td>\n",
              "      <td>1.000000</td>\n",
              "      <td>1.000000</td>\n",
              "      <td>1.000000</td>\n",
              "      <td>1.000000</td>\n",
              "      <td>1.000000</td>\n",
              "      <td>1.000000</td>\n",
              "      <td>1.000000</td>\n",
              "    </tr>\n",
              "  </tbody>\n",
              "</table>\n",
              "</div>"
            ],
            "text/plain": [
              "            duration  ...  dst_host_srv_rerror_rate\n",
              "count  494021.000000  ...             494021.000000\n",
              "mean       47.979302  ...                  0.057412\n",
              "std       707.746472  ...                  0.230140\n",
              "min         0.000000  ...                  0.000000\n",
              "25%         0.000000  ...                  0.000000\n",
              "50%         0.000000  ...                  0.000000\n",
              "75%         0.000000  ...                  0.000000\n",
              "max     58329.000000  ...                  1.000000\n",
              "\n",
              "[8 rows x 38 columns]"
            ]
          },
          "metadata": {
            "tags": []
          },
          "execution_count": 8
        }
      ]
    },
    {
      "cell_type": "code",
      "metadata": {
        "id": "eiv_6rI1xgV9",
        "outputId": "0f86583d-4076-4efc-ce1a-b1bac11a372c",
        "colab": {
          "base_uri": "https://localhost:8080/",
          "height": 850
        }
      },
      "source": [
        "kdd99_10p_df.info()"
      ],
      "execution_count": 9,
      "outputs": [
        {
          "output_type": "stream",
          "text": [
            "<class 'pandas.core.frame.DataFrame'>\n",
            "RangeIndex: 494021 entries, 0 to 494020\n",
            "Data columns (total 42 columns):\n",
            " #   Column                       Non-Null Count   Dtype  \n",
            "---  ------                       --------------   -----  \n",
            " 0   duration                     494021 non-null  int64  \n",
            " 1   protocol_type                494021 non-null  object \n",
            " 2   service                      494021 non-null  object \n",
            " 3   flag                         494021 non-null  object \n",
            " 4   src_bytes                    494021 non-null  int64  \n",
            " 5   dst_bytes                    494021 non-null  int64  \n",
            " 6   land                         494021 non-null  int64  \n",
            " 7   wrong_fragment               494021 non-null  int64  \n",
            " 8   urgent                       494021 non-null  int64  \n",
            " 9   hot                          494021 non-null  int64  \n",
            " 10  num_failed_logins            494021 non-null  int64  \n",
            " 11  logged_in                    494021 non-null  int64  \n",
            " 12  num_compromised              494021 non-null  int64  \n",
            " 13  root_shell                   494021 non-null  int64  \n",
            " 14  su_attempted                 494021 non-null  int64  \n",
            " 15  num_root                     494021 non-null  int64  \n",
            " 16  num_file_creations           494021 non-null  int64  \n",
            " 17  num_shells                   494021 non-null  int64  \n",
            " 18  num_access_files             494021 non-null  int64  \n",
            " 19  num_outbound_cmds            494021 non-null  int64  \n",
            " 20  is_host_login                494021 non-null  int64  \n",
            " 21  is_guest_login               494021 non-null  int64  \n",
            " 22  count                        494021 non-null  int64  \n",
            " 23  srv_count                    494021 non-null  int64  \n",
            " 24  serror_rate                  494021 non-null  float64\n",
            " 25  srv_serror_rate              494021 non-null  float64\n",
            " 26  rerror_rate                  494021 non-null  float64\n",
            " 27  srv_rerror_rate              494021 non-null  float64\n",
            " 28  same_srv_rate                494021 non-null  float64\n",
            " 29  diff_srv_rate                494021 non-null  float64\n",
            " 30  srv_diff_host_rate           494021 non-null  float64\n",
            " 31  dst_host_count               494021 non-null  int64  \n",
            " 32  dst_host_srv_count           494021 non-null  int64  \n",
            " 33  dst_host_same_srv_rate       494021 non-null  float64\n",
            " 34  dst_host_diff_srv_rate       494021 non-null  float64\n",
            " 35  dst_host_same_src_port_rate  494021 non-null  float64\n",
            " 36  dst_host_srv_diff_host_rate  494021 non-null  float64\n",
            " 37  dst_host_serror_rate         494021 non-null  float64\n",
            " 38  dst_host_srv_serror_rate     494021 non-null  float64\n",
            " 39  dst_host_rerror_rate         494021 non-null  float64\n",
            " 40  dst_host_srv_rerror_rate     494021 non-null  float64\n",
            " 41  attack_type                  494021 non-null  object \n",
            "dtypes: float64(15), int64(23), object(4)\n",
            "memory usage: 158.3+ MB\n"
          ],
          "name": "stdout"
        }
      ]
    },
    {
      "cell_type": "markdown",
      "metadata": {
        "id": "EUB_RFe8h_1R"
      },
      "source": [
        "## Engineering Data\n",
        "The `DecisionTreeClassifier` needs values that can be coerced into an `ndarray`. This data set has `object`s in it which are likely just strings. We can encode them. \n"
      ]
    },
    {
      "cell_type": "code",
      "metadata": {
        "id": "rXq-QvaCh_T_",
        "outputId": "457c656b-2958-4975-ca45-1a2460070893",
        "colab": {
          "base_uri": "https://localhost:8080/",
          "height": 833
        }
      },
      "source": [
        "Y = kdd99_10p_df[['attack_type']]\n",
        "X = kdd99_10p_df.drop(['attack_type',], axis=1)\n",
        "\n",
        "for c in X.columns:\n",
        "    if X[c].dtype == np.object:\n",
        "        encoder = LabelEncoder()\n",
        "        encoder.fit(X[c])\n",
        "        X[c] = encoder.transform(X[c])\n",
        "\n",
        "X.info()"
      ],
      "execution_count": 117,
      "outputs": [
        {
          "output_type": "stream",
          "text": [
            "<class 'pandas.core.frame.DataFrame'>\n",
            "RangeIndex: 494021 entries, 0 to 494020\n",
            "Data columns (total 41 columns):\n",
            " #   Column                       Non-Null Count   Dtype  \n",
            "---  ------                       --------------   -----  \n",
            " 0   duration                     494021 non-null  int64  \n",
            " 1   protocol_type                494021 non-null  int64  \n",
            " 2   service                      494021 non-null  int64  \n",
            " 3   flag                         494021 non-null  int64  \n",
            " 4   src_bytes                    494021 non-null  int64  \n",
            " 5   dst_bytes                    494021 non-null  int64  \n",
            " 6   land                         494021 non-null  int64  \n",
            " 7   wrong_fragment               494021 non-null  int64  \n",
            " 8   urgent                       494021 non-null  int64  \n",
            " 9   hot                          494021 non-null  int64  \n",
            " 10  num_failed_logins            494021 non-null  int64  \n",
            " 11  logged_in                    494021 non-null  int64  \n",
            " 12  num_compromised              494021 non-null  int64  \n",
            " 13  root_shell                   494021 non-null  int64  \n",
            " 14  su_attempted                 494021 non-null  int64  \n",
            " 15  num_root                     494021 non-null  int64  \n",
            " 16  num_file_creations           494021 non-null  int64  \n",
            " 17  num_shells                   494021 non-null  int64  \n",
            " 18  num_access_files             494021 non-null  int64  \n",
            " 19  num_outbound_cmds            494021 non-null  int64  \n",
            " 20  is_host_login                494021 non-null  int64  \n",
            " 21  is_guest_login               494021 non-null  int64  \n",
            " 22  count                        494021 non-null  int64  \n",
            " 23  srv_count                    494021 non-null  int64  \n",
            " 24  serror_rate                  494021 non-null  float64\n",
            " 25  srv_serror_rate              494021 non-null  float64\n",
            " 26  rerror_rate                  494021 non-null  float64\n",
            " 27  srv_rerror_rate              494021 non-null  float64\n",
            " 28  same_srv_rate                494021 non-null  float64\n",
            " 29  diff_srv_rate                494021 non-null  float64\n",
            " 30  srv_diff_host_rate           494021 non-null  float64\n",
            " 31  dst_host_count               494021 non-null  int64  \n",
            " 32  dst_host_srv_count           494021 non-null  int64  \n",
            " 33  dst_host_same_srv_rate       494021 non-null  float64\n",
            " 34  dst_host_diff_srv_rate       494021 non-null  float64\n",
            " 35  dst_host_same_src_port_rate  494021 non-null  float64\n",
            " 36  dst_host_srv_diff_host_rate  494021 non-null  float64\n",
            " 37  dst_host_serror_rate         494021 non-null  float64\n",
            " 38  dst_host_srv_serror_rate     494021 non-null  float64\n",
            " 39  dst_host_rerror_rate         494021 non-null  float64\n",
            " 40  dst_host_srv_rerror_rate     494021 non-null  float64\n",
            "dtypes: float64(15), int64(26)\n",
            "memory usage: 154.5 MB\n"
          ],
          "name": "stdout"
        }
      ]
    },
    {
      "cell_type": "markdown",
      "metadata": {
        "id": "bmdWKhlX2aup"
      },
      "source": [
        "## Split data"
      ]
    },
    {
      "cell_type": "code",
      "metadata": {
        "id": "mvUkW_wn0ENW"
      },
      "source": [
        "x1, x2, y1, y2 = train_test_split(X, Y, test_size=0.5)"
      ],
      "execution_count": 45,
      "outputs": []
    },
    {
      "cell_type": "code",
      "metadata": {
        "id": "hqFKInmvo0ht",
        "outputId": "9f21f754-4475-4d61-d5ad-ff439050fba2",
        "colab": {
          "base_uri": "https://localhost:8080/",
          "height": 204
        }
      },
      "source": [
        "y1.head()"
      ],
      "execution_count": 48,
      "outputs": [
        {
          "output_type": "execute_result",
          "data": {
            "text/html": [
              "<div>\n",
              "<style scoped>\n",
              "    .dataframe tbody tr th:only-of-type {\n",
              "        vertical-align: middle;\n",
              "    }\n",
              "\n",
              "    .dataframe tbody tr th {\n",
              "        vertical-align: top;\n",
              "    }\n",
              "\n",
              "    .dataframe thead th {\n",
              "        text-align: right;\n",
              "    }\n",
              "</style>\n",
              "<table border=\"1\" class=\"dataframe\">\n",
              "  <thead>\n",
              "    <tr style=\"text-align: right;\">\n",
              "      <th></th>\n",
              "      <th>attack_type</th>\n",
              "    </tr>\n",
              "  </thead>\n",
              "  <tbody>\n",
              "    <tr>\n",
              "      <th>358864</th>\n",
              "      <td>neptune.</td>\n",
              "    </tr>\n",
              "    <tr>\n",
              "      <th>57299</th>\n",
              "      <td>neptune.</td>\n",
              "    </tr>\n",
              "    <tr>\n",
              "      <th>124887</th>\n",
              "      <td>neptune.</td>\n",
              "    </tr>\n",
              "    <tr>\n",
              "      <th>207299</th>\n",
              "      <td>smurf.</td>\n",
              "    </tr>\n",
              "    <tr>\n",
              "      <th>213987</th>\n",
              "      <td>smurf.</td>\n",
              "    </tr>\n",
              "  </tbody>\n",
              "</table>\n",
              "</div>"
            ],
            "text/plain": [
              "       attack_type\n",
              "358864    neptune.\n",
              "57299     neptune.\n",
              "124887    neptune.\n",
              "207299      smurf.\n",
              "213987      smurf."
            ]
          },
          "metadata": {
            "tags": []
          },
          "execution_count": 48
        }
      ]
    },
    {
      "cell_type": "markdown",
      "metadata": {
        "id": "JxE1I_YP2xR8"
      },
      "source": [
        "## Decision trees"
      ]
    },
    {
      "cell_type": "code",
      "metadata": {
        "id": "3NvdeTjL21Ug"
      },
      "source": [
        "def make_tree(x, y, xx, yy, targets):\n",
        "  dtc = DecisionTreeClassifier()\n",
        "  dtc.fit(x, y)\n",
        "\n",
        "  print(f'The first set (training) scores {dtc.score(x, y)}')\n",
        "  print(f'The second set (test) scores {dtc.score(xx, yy)}')\n",
        "  plt.figure(figsize=(15,10))\n",
        "  plot_tree(dtc, class_names=targets, feature_names=x1.columns, filled=True, \n",
        "            fontsize=10, max_depth=2, precision=1, impurity=False)\n",
        "  plt.show()\n",
        "  return export_text(dtc, feature_names=list(x.columns), max_depth=2)"
      ],
      "execution_count": 84,
      "outputs": []
    },
    {
      "cell_type": "code",
      "metadata": {
        "id": "7XRZJu1Tn0KD",
        "outputId": "b53a1729-55e6-4202-ab7f-d7e0f6178746",
        "colab": {
          "base_uri": "https://localhost:8080/",
          "height": 898
        }
      },
      "source": [
        "tree_txt = make_tree(x1, y1, x2, y2, targets)\n",
        "print(tree_txt)"
      ],
      "execution_count": 85,
      "outputs": [
        {
          "output_type": "stream",
          "text": [
            "The first set (training) scores 1.0\n",
            "The second set (test) scores 0.9993563039702685\n"
          ],
          "name": "stdout"
        },
        {
          "output_type": "display_data",
          "data": {
            "image/png": "[encoded data removed]",
            "text/plain": [
              "<Figure size 1080x720 with 1 Axes>"
            ]
          },
          "metadata": {
            "tags": [],
            "needs_background": "light"
          }
        },
        {
          "output_type": "stream",
          "text": [
            "|--- srv_count <= 318.00\n",
            "|   |--- same_srv_rate <= 0.33\n",
            "|   |   |--- dst_host_diff_srv_rate <= 0.16\n",
            "|   |   |   |--- truncated branch of depth 7\n",
            "|   |   |--- dst_host_diff_srv_rate >  0.16\n",
            "|   |   |   |--- truncated branch of depth 6\n",
            "|   |--- same_srv_rate >  0.33\n",
            "|   |   |--- num_compromised <= 0.50\n",
            "|   |   |   |--- truncated branch of depth 30\n",
            "|   |   |--- num_compromised >  0.50\n",
            "|   |   |   |--- truncated branch of depth 6\n",
            "|--- srv_count >  318.00\n",
            "|   |--- src_bytes <= 518.00\n",
            "|   |   |--- class: normal.\n",
            "|   |--- src_bytes >  518.00\n",
            "|   |   |--- class: smurf.\n",
            "\n"
          ],
          "name": "stdout"
        }
      ]
    },
    {
      "cell_type": "markdown",
      "metadata": {
        "id": "5VTPqCikEFN_"
      },
      "source": [
        "## Decision Tree 2"
      ]
    },
    {
      "cell_type": "code",
      "metadata": {
        "id": "gxeiX_bBEHWF",
        "outputId": "4a2800f5-484d-4c8c-8ab7-fd48a6a97250",
        "colab": {
          "base_uri": "https://localhost:8080/",
          "height": 898
        }
      },
      "source": [
        "tree_txt2 = make_tree(x2, y2, x1, y1, targets)\n",
        "print(tree_txt2)"
      ],
      "execution_count": 86,
      "outputs": [
        {
          "output_type": "stream",
          "text": [
            "The first set (training) scores 0.9999919031945945\n",
            "The second set (test) scores 0.9995506254807498\n"
          ],
          "name": "stdout"
        },
        {
          "output_type": "display_data",
          "data": {
            "image/png": "[encoded data removed]",
            "text/plain": [
              "<Figure size 1080x720 with 1 Axes>"
            ]
          },
          "metadata": {
            "tags": [],
            "needs_background": "light"
          }
        },
        {
          "output_type": "stream",
          "text": [
            "|--- srv_count <= 321.00\n",
            "|   |--- same_srv_rate <= 0.33\n",
            "|   |   |--- dst_host_diff_srv_rate <= 0.15\n",
            "|   |   |   |--- truncated branch of depth 6\n",
            "|   |   |--- dst_host_diff_srv_rate >  0.15\n",
            "|   |   |   |--- truncated branch of depth 5\n",
            "|   |--- same_srv_rate >  0.33\n",
            "|   |   |--- src_bytes <= 42657.00\n",
            "|   |   |   |--- truncated branch of depth 31\n",
            "|   |   |--- src_bytes >  42657.00\n",
            "|   |   |   |--- truncated branch of depth 3\n",
            "|--- srv_count >  321.00\n",
            "|   |--- dst_bytes <= 2.00\n",
            "|   |   |--- class: smurf.\n",
            "|   |--- dst_bytes >  2.00\n",
            "|   |   |--- class: normal.\n",
            "\n"
          ],
          "name": "stdout"
        }
      ]
    },
    {
      "cell_type": "markdown",
      "metadata": {
        "id": "2Gt8_1ITV3aY"
      },
      "source": [
        "## Comparing the Trees\n",
        "\n",
        "I used `difflib` to create a side-by-side comparison for the two trees. Note that these are not the full trees but the trees truncated to 2 nodes past root. These two trees are very much alike, both starting with `srv_count` as the first decision point. The [task description](http://kdd.ics.uci.edu/databases/kddcup99/task.html) defines `srv_count` as _\"number of connections to the same service as the current connection in the past two seconds\"_.  It seems that both trees agree that if the serve count exceeds a threshold of about 318 connections then it is likely a __smurf__ attack or normal activity. The two trees differ on this second step with the first tree further classifying the records by `src_bytes` (_\"number of data bytes from source to destination\"_) and the second tree classifying them with `dst_bytes` (_\"number of data bytes from destination to source\"_). \tIt is likely that these two variables are highly correlated. "
      ]
    },
    {
      "cell_type": "code",
      "metadata": {
        "id": "ElZXSSUyENZP",
        "outputId": "dc6bd2b0-5a77-47be-811c-1ef4b4ed4625",
        "colab": {
          "base_uri": "https://localhost:8080/",
          "height": 426
        }
      },
      "source": [
        "import difflib\n",
        "from IPython.core.display import display, HTML\n",
        "d = difflib.HtmlDiff().make_table(tree_txt.split('\\n'), tree_txt2.split('\\n'),\n",
        "                                   fromdesc='Tree1', todesc='Tree2')\n",
        "HTML(d)"
      ],
      "execution_count": 116,
      "outputs": [
        {
          "output_type": "execute_result",
          "data": {
            "text/html": [
              "\n",
              "    <table class=\"diff\" id=\"difflib_chg_to13__top\"\n",
              "           cellspacing=\"0\" cellpadding=\"0\" rules=\"groups\" >\n",
              "        <colgroup></colgroup> <colgroup></colgroup> <colgroup></colgroup>\n",
              "        <colgroup></colgroup> <colgroup></colgroup> <colgroup></colgroup>\n",
              "        <thead><tr><th class=\"diff_next\"><br /></th><th colspan=\"2\" class=\"diff_header\">Tree1</th><th class=\"diff_next\"><br /></th><th colspan=\"2\" class=\"diff_header\">Tree2</th></tr></thead>\n",
              "        <tbody>\n",
              "            <tr><td class=\"diff_next\" id=\"difflib_chg_to13__1\"><a href=\"#difflib_chg_to13__1\">n</a></td><td class=\"diff_header\" id=\"from13_1\">1</td><td nowrap=\"nowrap\">|---&nbsp;srv_count&nbsp;&lt;=&nbsp;31<span class=\"diff_sub\">8</span>.00</td><td class=\"diff_next\"><a href=\"#difflib_chg_to13__1\">n</a></td><td class=\"diff_header\" id=\"to13_1\">1</td><td nowrap=\"nowrap\">|---&nbsp;srv_count&nbsp;&lt;=&nbsp;3<span class=\"diff_add\">2</span>1.00</td></tr>\n",
              "            <tr><td class=\"diff_next\" id=\"difflib_chg_to13__2\"></td><td class=\"diff_header\" id=\"from13_2\">2</td><td nowrap=\"nowrap\">|&nbsp;&nbsp;&nbsp;|---&nbsp;same_srv_rate&nbsp;&lt;=&nbsp;0.33</td><td class=\"diff_next\"></td><td class=\"diff_header\" id=\"to13_2\">2</td><td nowrap=\"nowrap\">|&nbsp;&nbsp;&nbsp;|---&nbsp;same_srv_rate&nbsp;&lt;=&nbsp;0.33</td></tr>\n",
              "            <tr><td class=\"diff_next\"><a href=\"#difflib_chg_to13__2\">n</a></td><td class=\"diff_header\" id=\"from13_3\">3</td><td nowrap=\"nowrap\">|&nbsp;&nbsp;&nbsp;|&nbsp;&nbsp;&nbsp;|---&nbsp;dst_host_diff_srv_rate&nbsp;&lt;=&nbsp;0.1<span class=\"diff_chg\">6</span></td><td class=\"diff_next\"><a href=\"#difflib_chg_to13__2\">n</a></td><td class=\"diff_header\" id=\"to13_3\">3</td><td nowrap=\"nowrap\">|&nbsp;&nbsp;&nbsp;|&nbsp;&nbsp;&nbsp;|---&nbsp;dst_host_diff_srv_rate&nbsp;&lt;=&nbsp;0.1<span class=\"diff_chg\">5</span></td></tr>\n",
              "            <tr><td class=\"diff_next\"></td><td class=\"diff_header\" id=\"from13_4\">4</td><td nowrap=\"nowrap\"><span class=\"diff_sub\">|&nbsp;&nbsp;&nbsp;|&nbsp;&nbsp;&nbsp;|&nbsp;&nbsp;&nbsp;|---&nbsp;truncated&nbsp;branch&nbsp;of&nbsp;depth&nbsp;7</span></td><td class=\"diff_next\"></td><td class=\"diff_header\"></td><td nowrap=\"nowrap\"></td></tr>\n",
              "            <tr><td class=\"diff_next\" id=\"difflib_chg_to13__3\"></td><td class=\"diff_header\" id=\"from13_5\">5</td><td nowrap=\"nowrap\"><span class=\"diff_sub\">|&nbsp;&nbsp;&nbsp;|&nbsp;&nbsp;&nbsp;|---&nbsp;dst_host_diff_srv_rate&nbsp;&gt;&nbsp;&nbsp;0.16</span></td><td class=\"diff_next\"></td><td class=\"diff_header\"></td><td nowrap=\"nowrap\"></td></tr>\n",
              "            <tr><td class=\"diff_next\"></td><td class=\"diff_header\" id=\"from13_6\">6</td><td nowrap=\"nowrap\">|&nbsp;&nbsp;&nbsp;|&nbsp;&nbsp;&nbsp;|&nbsp;&nbsp;&nbsp;|---&nbsp;truncated&nbsp;branch&nbsp;of&nbsp;depth&nbsp;6</td><td class=\"diff_next\"></td><td class=\"diff_header\" id=\"to13_4\">4</td><td nowrap=\"nowrap\">|&nbsp;&nbsp;&nbsp;|&nbsp;&nbsp;&nbsp;|&nbsp;&nbsp;&nbsp;|---&nbsp;truncated&nbsp;branch&nbsp;of&nbsp;depth&nbsp;6</td></tr>\n",
              "            <tr><td class=\"diff_next\"><a href=\"#difflib_chg_to13__3\">n</a></td><td class=\"diff_header\"></td><td nowrap=\"nowrap\"></td><td class=\"diff_next\"><a href=\"#difflib_chg_to13__3\">n</a></td><td class=\"diff_header\" id=\"to13_5\">5</td><td nowrap=\"nowrap\"><span class=\"diff_add\">|&nbsp;&nbsp;&nbsp;|&nbsp;&nbsp;&nbsp;|---&nbsp;dst_host_diff_srv_rate&nbsp;&gt;&nbsp;&nbsp;0.15</span></td></tr>\n",
              "            <tr><td class=\"diff_next\"></td><td class=\"diff_header\"></td><td nowrap=\"nowrap\"></td><td class=\"diff_next\"></td><td class=\"diff_header\" id=\"to13_6\">6</td><td nowrap=\"nowrap\"><span class=\"diff_add\">|&nbsp;&nbsp;&nbsp;|&nbsp;&nbsp;&nbsp;|&nbsp;&nbsp;&nbsp;|---&nbsp;truncated&nbsp;branch&nbsp;of&nbsp;depth&nbsp;5</span></td></tr>\n",
              "            <tr><td class=\"diff_next\"></td><td class=\"diff_header\" id=\"from13_7\">7</td><td nowrap=\"nowrap\">|&nbsp;&nbsp;&nbsp;|---&nbsp;same_srv_rate&nbsp;&gt;&nbsp;&nbsp;0.33</td><td class=\"diff_next\"></td><td class=\"diff_header\" id=\"to13_7\">7</td><td nowrap=\"nowrap\">|&nbsp;&nbsp;&nbsp;|---&nbsp;same_srv_rate&nbsp;&gt;&nbsp;&nbsp;0.33</td></tr>\n",
              "            <tr><td class=\"diff_next\"><a href=\"#difflib_chg_to13__4\">n</a></td><td class=\"diff_header\" id=\"from13_8\">8</td><td nowrap=\"nowrap\"><span class=\"diff_sub\">|&nbsp;&nbsp;&nbsp;|&nbsp;&nbsp;&nbsp;|---&nbsp;num_compromised&nbsp;&lt;=&nbsp;0.50</span></td><td class=\"diff_next\"><a href=\"#difflib_chg_to13__4\">n</a></td><td class=\"diff_header\" id=\"to13_8\">8</td><td nowrap=\"nowrap\"><span class=\"diff_add\">|&nbsp;&nbsp;&nbsp;|&nbsp;&nbsp;&nbsp;|---&nbsp;src_bytes&nbsp;&lt;=&nbsp;42657.00</span></td></tr>\n",
              "            <tr><td class=\"diff_next\"></td><td class=\"diff_header\"></td><td nowrap=\"nowrap\"></td><td class=\"diff_next\"></td><td class=\"diff_header\" id=\"to13_9\">9</td><td nowrap=\"nowrap\"><span class=\"diff_add\">|&nbsp;&nbsp;&nbsp;|&nbsp;&nbsp;&nbsp;|&nbsp;&nbsp;&nbsp;|---&nbsp;truncated&nbsp;branch&nbsp;of&nbsp;depth&nbsp;31</span></td></tr>\n",
              "            <tr><td class=\"diff_next\"></td><td class=\"diff_header\"></td><td nowrap=\"nowrap\"></td><td class=\"diff_next\"></td><td class=\"diff_header\" id=\"to13_10\">10</td><td nowrap=\"nowrap\"><span class=\"diff_add\">|&nbsp;&nbsp;&nbsp;|&nbsp;&nbsp;&nbsp;|---&nbsp;src_bytes&nbsp;&gt;&nbsp;&nbsp;42657.00</span></td></tr>\n",
              "            <tr><td class=\"diff_next\"></td><td class=\"diff_header\" id=\"from13_9\">9</td><td nowrap=\"nowrap\">|&nbsp;&nbsp;&nbsp;|&nbsp;&nbsp;&nbsp;|&nbsp;&nbsp;&nbsp;|---&nbsp;truncated&nbsp;branch&nbsp;of&nbsp;depth&nbsp;3<span class=\"diff_sub\">0</span></td><td class=\"diff_next\"></td><td class=\"diff_header\" id=\"to13_11\">11</td><td nowrap=\"nowrap\">|&nbsp;&nbsp;&nbsp;|&nbsp;&nbsp;&nbsp;|&nbsp;&nbsp;&nbsp;|---&nbsp;truncated&nbsp;branch&nbsp;of&nbsp;depth&nbsp;3</td></tr>\n",
              "            <tr><td class=\"diff_next\"></td><td class=\"diff_header\" id=\"from13_10\">10</td><td nowrap=\"nowrap\"><span class=\"diff_sub\">|&nbsp;&nbsp;&nbsp;|&nbsp;&nbsp;&nbsp;|---&nbsp;num_compromised&nbsp;&gt;&nbsp;&nbsp;0.50</span></td><td class=\"diff_next\"></td><td class=\"diff_header\"></td><td nowrap=\"nowrap\"></td></tr>\n",
              "            <tr><td class=\"diff_next\"></td><td class=\"diff_header\" id=\"from13_11\">11</td><td nowrap=\"nowrap\"><span class=\"diff_sub\">|&nbsp;&nbsp;&nbsp;|&nbsp;&nbsp;&nbsp;|&nbsp;&nbsp;&nbsp;|---&nbsp;truncated&nbsp;branch&nbsp;of&nbsp;depth&nbsp;6</span></td><td class=\"diff_next\"></td><td class=\"diff_header\"></td><td nowrap=\"nowrap\"></td></tr>\n",
              "            <tr><td class=\"diff_next\" id=\"difflib_chg_to13__4\"></td><td class=\"diff_header\" id=\"from13_12\">12</td><td nowrap=\"nowrap\">|---&nbsp;srv_count&nbsp;&gt;&nbsp;&nbsp;31<span class=\"diff_sub\">8</span>.00</td><td class=\"diff_next\"></td><td class=\"diff_header\" id=\"to13_12\">12</td><td nowrap=\"nowrap\">|---&nbsp;srv_count&nbsp;&gt;&nbsp;&nbsp;3<span class=\"diff_add\">2</span>1.00</td></tr>\n",
              "            <tr><td class=\"diff_next\"></td><td class=\"diff_header\" id=\"from13_13\">13</td><td nowrap=\"nowrap\">|&nbsp;&nbsp;&nbsp;|---&nbsp;s<span class=\"diff_chg\">rc</span>_bytes&nbsp;&lt;=&nbsp;<span class=\"diff_chg\">518</span>.00</td><td class=\"diff_next\"></td><td class=\"diff_header\" id=\"to13_13\">13</td><td nowrap=\"nowrap\">|&nbsp;&nbsp;&nbsp;|---&nbsp;<span class=\"diff_add\">d</span>s<span class=\"diff_chg\">t</span>_bytes&nbsp;&lt;=&nbsp;<span class=\"diff_chg\">2</span>.00</td></tr>\n",
              "            <tr><td class=\"diff_next\"></td><td class=\"diff_header\"></td><td nowrap=\"nowrap\"></td><td class=\"diff_next\"></td><td class=\"diff_header\" id=\"to13_14\">14</td><td nowrap=\"nowrap\"><span class=\"diff_add\">|&nbsp;&nbsp;&nbsp;|&nbsp;&nbsp;&nbsp;|---&nbsp;class:&nbsp;smurf.</span></td></tr>\n",
              "            <tr><td class=\"diff_next\"></td><td class=\"diff_header\"></td><td nowrap=\"nowrap\"></td><td class=\"diff_next\"></td><td class=\"diff_header\" id=\"to13_15\">15</td><td nowrap=\"nowrap\"><span class=\"diff_add\">|&nbsp;&nbsp;&nbsp;|---&nbsp;dst_bytes&nbsp;&gt;&nbsp;&nbsp;2.00</span></td></tr>\n",
              "            <tr><td class=\"diff_next\"></td><td class=\"diff_header\" id=\"from13_14\">14</td><td nowrap=\"nowrap\">|&nbsp;&nbsp;&nbsp;|&nbsp;&nbsp;&nbsp;|---&nbsp;class:&nbsp;normal.</td><td class=\"diff_next\"></td><td class=\"diff_header\" id=\"to13_16\">16</td><td nowrap=\"nowrap\">|&nbsp;&nbsp;&nbsp;|&nbsp;&nbsp;&nbsp;|---&nbsp;class:&nbsp;normal.</td></tr>\n",
              "            <tr><td class=\"diff_next\"><a href=\"#difflib_chg_to13__top\">t</a></td><td class=\"diff_header\" id=\"from13_15\">15</td><td nowrap=\"nowrap\"><span class=\"diff_sub\">|&nbsp;&nbsp;&nbsp;|---&nbsp;src_bytes&nbsp;&gt;&nbsp;&nbsp;518.00</span></td><td class=\"diff_next\"><a href=\"#difflib_chg_to13__top\">t</a></td><td class=\"diff_header\"></td><td nowrap=\"nowrap\"></td></tr>\n",
              "            <tr><td class=\"diff_next\"></td><td class=\"diff_header\" id=\"from13_16\">16</td><td nowrap=\"nowrap\"><span class=\"diff_sub\">|&nbsp;&nbsp;&nbsp;|&nbsp;&nbsp;&nbsp;|---&nbsp;class:&nbsp;smurf.</span></td><td class=\"diff_next\"></td><td class=\"diff_header\"></td><td nowrap=\"nowrap\"></td></tr>\n",
              "            <tr><td class=\"diff_next\"></td><td class=\"diff_header\" id=\"from13_17\">17</td><td nowrap=\"nowrap\"></td><td class=\"diff_next\"></td><td class=\"diff_header\" id=\"to13_17\">17</td><td nowrap=\"nowrap\"></td></tr>\n",
              "        </tbody>\n",
              "    </table>"
            ],
            "text/plain": [
              "<IPython.core.display.HTML object>"
            ]
          },
          "metadata": {
            "tags": []
          },
          "execution_count": 116
        }
      ]
    },
    {
      "cell_type": "markdown",
      "metadata": {
        "id": "HUFZIOAdWhny"
      },
      "source": [
        "## Class distribution"
      ]
    },
    {
      "cell_type": "code",
      "metadata": {
        "id": "6KoTHZryEYKq",
        "outputId": "004c0829-3fac-4766-cc5c-9fbba207373d",
        "colab": {
          "base_uri": "https://localhost:8080/",
          "height": 679
        }
      },
      "source": [
        "plt.figure(figsize=(15, 10))\n",
        "kdd99_10p_df['attack_type'].value_counts().plot(kind=\"bar\")"
      ],
      "execution_count": 119,
      "outputs": [
        {
          "output_type": "execute_result",
          "data": {
            "text/plain": [
              "<matplotlib.axes._subplots.AxesSubplot at 0x7f90857de390>"
            ]
          },
          "metadata": {
            "tags": []
          },
          "execution_count": 119
        },
        {
          "output_type": "display_data",
          "data": {
            "image/png": "[encoded data removed]",
            "text/plain": [
              "<Figure size 1080x720 with 1 Axes>"
            ]
          },
          "metadata": {
            "tags": [],
            "needs_background": "light"
          }
        }
      ]
    },
    {
      "cell_type": "code",
      "metadata": {
        "id": "iI5cqcQwWhNC"
      },
      "source": [
        ""
      ],
      "execution_count": null,
      "outputs": []
    }
  ]
}